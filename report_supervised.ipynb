{
 "cells": [
  {
   "cell_type": "markdown",
   "source": [
    "## Introduction to Machine Learning\n",
    "\n",
    "### Supervised Learning Algorithms\n",
    "* Decision Trees\n",
    "* Multi-layer perceptron\n",
    "* k-NN\n",
    "\n",
    "#### Final Project - wine quality classification problem"
   ],
   "metadata": {
    "collapsed": false
   }
  },
  {
   "cell_type": "code",
   "execution_count": 1967,
   "outputs": [],
   "source": [
    "# Importing the libraries\n",
    "# generic\n",
    "import pandas as pd\n",
    "import numpy as np\n",
    "import matplotlib.pyplot as plt\n",
    "import seaborn as sns\n",
    "# preprocessing\n",
    "from sklearn import preprocessing\n",
    "from sklearn.model_selection import train_test_split\n",
    "from scipy.stats import zscore\n",
    "# models\n",
    "from sklearn.tree import DecisionTreeClassifier\n",
    "from sklearn.neural_network import MLPClassifier\n",
    "from sklearn.neighbors import KNeighborsClassifier\n",
    "# metrics\n",
    "from sklearn.metrics import classification_report\n",
    "from sklearn.metrics import confusion_matrix, ConfusionMatrixDisplay"
   ],
   "metadata": {
    "collapsed": false,
    "pycharm": {
     "name": "#%%\n"
    }
   }
  },
  {
   "cell_type": "code",
   "execution_count": 1968,
   "outputs": [],
   "source": [
    "# Utilities\n",
    "def data_scaler(data):\n",
    "    scaler = preprocessing.MinMaxScaler()\n",
    "    data = scaler.fit_transform(data)\n",
    "    return data\n",
    "def quality_labeller(data, bins=(2.9,5.9,8), labels=None):\n",
    "    if labels is None:\n",
    "        labels = ['bad', 'good']\n",
    "    df_quality = pd.cut(data['quality'],\n",
    "                           bins = bins,\n",
    "                           labels = labels)\n",
    "    data.loc[:,'quality_label'] = df_quality\n",
    "    return data\n",
    "def delete_radomly_x(data, x=0.1):\n",
    "    # get dimensions of df\n",
    "    nrows, ncols = data.shape\n",
    "\n",
    "    volume = nrows * ncols                    # total number of entries in data\n",
    "    volume_to_be_nan = int(volume * x)      # number of entries to turn to NaN (10 %)\n",
    "\n",
    "    # randomly generate index locations for the new NaNs\n",
    "    indices = np.random.randint(volume, size=volume_to_be_nan)\n",
    "    row_indices = indices % nrows\n",
    "    col_indices = (indices / nrows).astype(int)\n",
    "\n",
    "    # assign NaN to each of the indices in data\n",
    "    for ri, ci in zip(row_indices, col_indices):\n",
    "      data.iloc[ri, ci] = np.nan"
   ],
   "metadata": {
    "collapsed": false,
    "pycharm": {
     "name": "#%%\n"
    }
   }
  },
  {
   "cell_type": "markdown",
   "source": [
    "##### Read Red Wine"
   ],
   "metadata": {
    "collapsed": false
   }
  },
  {
   "cell_type": "code",
   "execution_count": 1969,
   "outputs": [
    {
     "data": {
      "text/plain": "   fixed acidity  volatile acidity  citric acid  residual sugar  chlorides  \\\n0            7.4              0.70         0.00             1.9      0.076   \n1            7.8              0.88         0.00             2.6      0.098   \n2            7.8              0.76         0.04             2.3      0.092   \n3           11.2              0.28         0.56             1.9      0.075   \n4            7.4              0.70         0.00             1.9      0.076   \n\n   free sulfur dioxide  total sulfur dioxide  density    pH  sulphates  \\\n0                 11.0                  34.0   0.9978  3.51       0.56   \n1                 25.0                  67.0   0.9968  3.20       0.68   \n2                 15.0                  54.0   0.9970  3.26       0.65   \n3                 17.0                  60.0   0.9980  3.16       0.58   \n4                 11.0                  34.0   0.9978  3.51       0.56   \n\n   alcohol  quality  \n0      9.4        5  \n1      9.8        5  \n2      9.8        5  \n3      9.8        6  \n4      9.4        5  ",
      "text/html": "<div>\n<style scoped>\n    .dataframe tbody tr th:only-of-type {\n        vertical-align: middle;\n    }\n\n    .dataframe tbody tr th {\n        vertical-align: top;\n    }\n\n    .dataframe thead th {\n        text-align: right;\n    }\n</style>\n<table border=\"1\" class=\"dataframe\">\n  <thead>\n    <tr style=\"text-align: right;\">\n      <th></th>\n      <th>fixed acidity</th>\n      <th>volatile acidity</th>\n      <th>citric acid</th>\n      <th>residual sugar</th>\n      <th>chlorides</th>\n      <th>free sulfur dioxide</th>\n      <th>total sulfur dioxide</th>\n      <th>density</th>\n      <th>pH</th>\n      <th>sulphates</th>\n      <th>alcohol</th>\n      <th>quality</th>\n    </tr>\n  </thead>\n  <tbody>\n    <tr>\n      <th>0</th>\n      <td>7.4</td>\n      <td>0.70</td>\n      <td>0.00</td>\n      <td>1.9</td>\n      <td>0.076</td>\n      <td>11.0</td>\n      <td>34.0</td>\n      <td>0.9978</td>\n      <td>3.51</td>\n      <td>0.56</td>\n      <td>9.4</td>\n      <td>5</td>\n    </tr>\n    <tr>\n      <th>1</th>\n      <td>7.8</td>\n      <td>0.88</td>\n      <td>0.00</td>\n      <td>2.6</td>\n      <td>0.098</td>\n      <td>25.0</td>\n      <td>67.0</td>\n      <td>0.9968</td>\n      <td>3.20</td>\n      <td>0.68</td>\n      <td>9.8</td>\n      <td>5</td>\n    </tr>\n    <tr>\n      <th>2</th>\n      <td>7.8</td>\n      <td>0.76</td>\n      <td>0.04</td>\n      <td>2.3</td>\n      <td>0.092</td>\n      <td>15.0</td>\n      <td>54.0</td>\n      <td>0.9970</td>\n      <td>3.26</td>\n      <td>0.65</td>\n      <td>9.8</td>\n      <td>5</td>\n    </tr>\n    <tr>\n      <th>3</th>\n      <td>11.2</td>\n      <td>0.28</td>\n      <td>0.56</td>\n      <td>1.9</td>\n      <td>0.075</td>\n      <td>17.0</td>\n      <td>60.0</td>\n      <td>0.9980</td>\n      <td>3.16</td>\n      <td>0.58</td>\n      <td>9.8</td>\n      <td>6</td>\n    </tr>\n    <tr>\n      <th>4</th>\n      <td>7.4</td>\n      <td>0.70</td>\n      <td>0.00</td>\n      <td>1.9</td>\n      <td>0.076</td>\n      <td>11.0</td>\n      <td>34.0</td>\n      <td>0.9978</td>\n      <td>3.51</td>\n      <td>0.56</td>\n      <td>9.4</td>\n      <td>5</td>\n    </tr>\n  </tbody>\n</table>\n</div>"
     },
     "execution_count": 1969,
     "metadata": {},
     "output_type": "execute_result"
    }
   ],
   "source": [
    "df_red = pd.read_csv(\"winequality-red.csv\")\n",
    "df_red.head()"
   ],
   "metadata": {
    "collapsed": false,
    "pycharm": {
     "name": "#%%\n"
    }
   }
  },
  {
   "cell_type": "markdown",
   "source": [
    "###### Analysing"
   ],
   "metadata": {
    "collapsed": false
   }
  },
  {
   "cell_type": "code",
   "execution_count": 1970,
   "outputs": [
    {
     "name": "stdout",
     "output_type": "stream",
     "text": [
      "<class 'pandas.core.frame.DataFrame'>\n",
      "RangeIndex: 1599 entries, 0 to 1598\n",
      "Data columns (total 12 columns):\n",
      " #   Column                Non-Null Count  Dtype  \n",
      "---  ------                --------------  -----  \n",
      " 0   fixed acidity         1599 non-null   float64\n",
      " 1   volatile acidity      1599 non-null   float64\n",
      " 2   citric acid           1599 non-null   float64\n",
      " 3   residual sugar        1599 non-null   float64\n",
      " 4   chlorides             1599 non-null   float64\n",
      " 5   free sulfur dioxide   1599 non-null   float64\n",
      " 6   total sulfur dioxide  1599 non-null   float64\n",
      " 7   density               1599 non-null   float64\n",
      " 8   pH                    1599 non-null   float64\n",
      " 9   sulphates             1599 non-null   float64\n",
      " 10  alcohol               1599 non-null   float64\n",
      " 11  quality               1599 non-null   int64  \n",
      "dtypes: float64(11), int64(1)\n",
      "memory usage: 150.0 KB\n"
     ]
    }
   ],
   "source": [
    "df_red.info()"
   ],
   "metadata": {
    "collapsed": false,
    "pycharm": {
     "name": "#%%\n"
    }
   }
  },
  {
   "cell_type": "code",
   "execution_count": 1971,
   "outputs": [
    {
     "data": {
      "text/plain": "       fixed acidity  volatile acidity  citric acid  residual sugar  \\\ncount    1599.000000       1599.000000  1599.000000     1599.000000   \nmean        8.319637          0.527821     0.270976        2.538806   \nstd         1.741096          0.179060     0.194801        1.409928   \nmin         4.600000          0.120000     0.000000        0.900000   \n25%         7.100000          0.390000     0.090000        1.900000   \n50%         7.900000          0.520000     0.260000        2.200000   \n75%         9.200000          0.640000     0.420000        2.600000   \nmax        15.900000          1.580000     1.000000       15.500000   \n\n         chlorides  free sulfur dioxide  total sulfur dioxide      density  \\\ncount  1599.000000          1599.000000           1599.000000  1599.000000   \nmean      0.087467            15.874922             46.467792     0.996747   \nstd       0.047065            10.460157             32.895324     0.001887   \nmin       0.012000             1.000000              6.000000     0.990070   \n25%       0.070000             7.000000             22.000000     0.995600   \n50%       0.079000            14.000000             38.000000     0.996750   \n75%       0.090000            21.000000             62.000000     0.997835   \nmax       0.611000            72.000000            289.000000     1.003690   \n\n                pH    sulphates      alcohol      quality  \ncount  1599.000000  1599.000000  1599.000000  1599.000000  \nmean      3.311113     0.658149    10.422983     5.636023  \nstd       0.154386     0.169507     1.065668     0.807569  \nmin       2.740000     0.330000     8.400000     3.000000  \n25%       3.210000     0.550000     9.500000     5.000000  \n50%       3.310000     0.620000    10.200000     6.000000  \n75%       3.400000     0.730000    11.100000     6.000000  \nmax       4.010000     2.000000    14.900000     8.000000  ",
      "text/html": "<div>\n<style scoped>\n    .dataframe tbody tr th:only-of-type {\n        vertical-align: middle;\n    }\n\n    .dataframe tbody tr th {\n        vertical-align: top;\n    }\n\n    .dataframe thead th {\n        text-align: right;\n    }\n</style>\n<table border=\"1\" class=\"dataframe\">\n  <thead>\n    <tr style=\"text-align: right;\">\n      <th></th>\n      <th>fixed acidity</th>\n      <th>volatile acidity</th>\n      <th>citric acid</th>\n      <th>residual sugar</th>\n      <th>chlorides</th>\n      <th>free sulfur dioxide</th>\n      <th>total sulfur dioxide</th>\n      <th>density</th>\n      <th>pH</th>\n      <th>sulphates</th>\n      <th>alcohol</th>\n      <th>quality</th>\n    </tr>\n  </thead>\n  <tbody>\n    <tr>\n      <th>count</th>\n      <td>1599.000000</td>\n      <td>1599.000000</td>\n      <td>1599.000000</td>\n      <td>1599.000000</td>\n      <td>1599.000000</td>\n      <td>1599.000000</td>\n      <td>1599.000000</td>\n      <td>1599.000000</td>\n      <td>1599.000000</td>\n      <td>1599.000000</td>\n      <td>1599.000000</td>\n      <td>1599.000000</td>\n    </tr>\n    <tr>\n      <th>mean</th>\n      <td>8.319637</td>\n      <td>0.527821</td>\n      <td>0.270976</td>\n      <td>2.538806</td>\n      <td>0.087467</td>\n      <td>15.874922</td>\n      <td>46.467792</td>\n      <td>0.996747</td>\n      <td>3.311113</td>\n      <td>0.658149</td>\n      <td>10.422983</td>\n      <td>5.636023</td>\n    </tr>\n    <tr>\n      <th>std</th>\n      <td>1.741096</td>\n      <td>0.179060</td>\n      <td>0.194801</td>\n      <td>1.409928</td>\n      <td>0.047065</td>\n      <td>10.460157</td>\n      <td>32.895324</td>\n      <td>0.001887</td>\n      <td>0.154386</td>\n      <td>0.169507</td>\n      <td>1.065668</td>\n      <td>0.807569</td>\n    </tr>\n    <tr>\n      <th>min</th>\n      <td>4.600000</td>\n      <td>0.120000</td>\n      <td>0.000000</td>\n      <td>0.900000</td>\n      <td>0.012000</td>\n      <td>1.000000</td>\n      <td>6.000000</td>\n      <td>0.990070</td>\n      <td>2.740000</td>\n      <td>0.330000</td>\n      <td>8.400000</td>\n      <td>3.000000</td>\n    </tr>\n    <tr>\n      <th>25%</th>\n      <td>7.100000</td>\n      <td>0.390000</td>\n      <td>0.090000</td>\n      <td>1.900000</td>\n      <td>0.070000</td>\n      <td>7.000000</td>\n      <td>22.000000</td>\n      <td>0.995600</td>\n      <td>3.210000</td>\n      <td>0.550000</td>\n      <td>9.500000</td>\n      <td>5.000000</td>\n    </tr>\n    <tr>\n      <th>50%</th>\n      <td>7.900000</td>\n      <td>0.520000</td>\n      <td>0.260000</td>\n      <td>2.200000</td>\n      <td>0.079000</td>\n      <td>14.000000</td>\n      <td>38.000000</td>\n      <td>0.996750</td>\n      <td>3.310000</td>\n      <td>0.620000</td>\n      <td>10.200000</td>\n      <td>6.000000</td>\n    </tr>\n    <tr>\n      <th>75%</th>\n      <td>9.200000</td>\n      <td>0.640000</td>\n      <td>0.420000</td>\n      <td>2.600000</td>\n      <td>0.090000</td>\n      <td>21.000000</td>\n      <td>62.000000</td>\n      <td>0.997835</td>\n      <td>3.400000</td>\n      <td>0.730000</td>\n      <td>11.100000</td>\n      <td>6.000000</td>\n    </tr>\n    <tr>\n      <th>max</th>\n      <td>15.900000</td>\n      <td>1.580000</td>\n      <td>1.000000</td>\n      <td>15.500000</td>\n      <td>0.611000</td>\n      <td>72.000000</td>\n      <td>289.000000</td>\n      <td>1.003690</td>\n      <td>4.010000</td>\n      <td>2.000000</td>\n      <td>14.900000</td>\n      <td>8.000000</td>\n    </tr>\n  </tbody>\n</table>\n</div>"
     },
     "execution_count": 1971,
     "metadata": {},
     "output_type": "execute_result"
    }
   ],
   "source": [
    "df_red.describe()"
   ],
   "metadata": {
    "collapsed": false,
    "pycharm": {
     "name": "#%%\n"
    }
   }
  },
  {
   "cell_type": "markdown",
   "source": [
    "###### Delete data 10 and 20%"
   ],
   "metadata": {
    "collapsed": false
   }
  },
  {
   "cell_type": "code",
   "execution_count": 1972,
   "outputs": [
    {
     "data": {
      "text/plain": "fixed acidity           149\nvolatile acidity        160\ncitric acid             141\nresidual sugar          144\nchlorides               139\nfree sulfur dioxide     155\ntotal sulfur dioxide    160\ndensity                 186\npH                      149\nsulphates               147\nalcohol                 145\nquality                 144\ndtype: int64"
     },
     "execution_count": 1972,
     "metadata": {},
     "output_type": "execute_result"
    }
   ],
   "source": [
    "delete_radomly_x(df_red)\n",
    "df_red.isna().sum()"
   ],
   "metadata": {
    "collapsed": false,
    "pycharm": {
     "name": "#%%\n"
    }
   }
  },
  {
   "cell_type": "markdown",
   "source": [
    "* strategy 1 - Deleting Rows"
   ],
   "metadata": {
    "collapsed": false
   }
  },
  {
   "cell_type": "code",
   "execution_count": 1973,
   "outputs": [
    {
     "data": {
      "text/plain": "fixed acidity           0\nvolatile acidity        0\ncitric acid             0\nresidual sugar          0\nchlorides               0\nfree sulfur dioxide     0\ntotal sulfur dioxide    0\ndensity                 0\npH                      0\nsulphates               0\nalcohol                 0\nquality                 0\ndtype: int64"
     },
     "execution_count": 1973,
     "metadata": {},
     "output_type": "execute_result"
    }
   ],
   "source": [
    "df_red.dropna(inplace=True)\n",
    "df_red.isna().sum()"
   ],
   "metadata": {
    "collapsed": false,
    "pycharm": {
     "name": "#%%\n"
    }
   }
  },
  {
   "cell_type": "code",
   "execution_count": 1974,
   "outputs": [
    {
     "name": "stdout",
     "output_type": "stream",
     "text": [
      "<class 'pandas.core.frame.DataFrame'>\n",
      "Int64Index: 484 entries, 2 to 1590\n",
      "Data columns (total 12 columns):\n",
      " #   Column                Non-Null Count  Dtype  \n",
      "---  ------                --------------  -----  \n",
      " 0   fixed acidity         484 non-null    float64\n",
      " 1   volatile acidity      484 non-null    float64\n",
      " 2   citric acid           484 non-null    float64\n",
      " 3   residual sugar        484 non-null    float64\n",
      " 4   chlorides             484 non-null    float64\n",
      " 5   free sulfur dioxide   484 non-null    float64\n",
      " 6   total sulfur dioxide  484 non-null    float64\n",
      " 7   density               484 non-null    float64\n",
      " 8   pH                    484 non-null    float64\n",
      " 9   sulphates             484 non-null    float64\n",
      " 10  alcohol               484 non-null    float64\n",
      " 11  quality               484 non-null    float64\n",
      "dtypes: float64(12)\n",
      "memory usage: 49.2 KB\n"
     ]
    }
   ],
   "source": [
    "df_red.info()"
   ],
   "metadata": {
    "collapsed": false,
    "pycharm": {
     "name": "#%%\n"
    }
   }
  },
  {
   "cell_type": "markdown",
   "source": [
    "* strategy 2 - Replacing With Mean"
   ],
   "metadata": {
    "collapsed": false
   }
  },
  {
   "cell_type": "code",
   "execution_count": 1975,
   "outputs": [
    {
     "data": {
      "text/plain": "fixed acidity           320\nvolatile acidity        266\ncitric acid             277\nresidual sugar          265\nchlorides               273\nfree sulfur dioxide     312\ntotal sulfur dioxide    316\ndensity                 286\npH                      286\nsulphates               289\nalcohol                 299\nquality                 273\ndtype: int64"
     },
     "execution_count": 1975,
     "metadata": {},
     "output_type": "execute_result"
    }
   ],
   "source": [
    "# restore data\n",
    "df_red = pd.read_csv(\"winequality-red.csv\")\n",
    "# delete 20%\n",
    "delete_radomly_x(df_red, 0.2)\n",
    "df_red.isna().sum()"
   ],
   "metadata": {
    "collapsed": false,
    "pycharm": {
     "name": "#%%\n"
    }
   }
  },
  {
   "cell_type": "code",
   "execution_count": 1976,
   "outputs": [
    {
     "data": {
      "text/plain": "fixed acidity           0\nvolatile acidity        0\ncitric acid             0\nresidual sugar          0\nchlorides               0\nfree sulfur dioxide     0\ntotal sulfur dioxide    0\ndensity                 0\npH                      0\nsulphates               0\nalcohol                 0\nquality                 0\ndtype: int64"
     },
     "execution_count": 1976,
     "metadata": {},
     "output_type": "execute_result"
    }
   ],
   "source": [
    "for column in df_red.columns:\n",
    "    mean = df_red[column].mean()\n",
    "    df_red[column] = df_red[column].replace(np.NaN, mean)\n",
    "df_red.isna().sum()"
   ],
   "metadata": {
    "collapsed": false,
    "pycharm": {
     "name": "#%%\n"
    }
   }
  },
  {
   "cell_type": "code",
   "execution_count": 1977,
   "outputs": [
    {
     "name": "stdout",
     "output_type": "stream",
     "text": [
      "<class 'pandas.core.frame.DataFrame'>\n",
      "RangeIndex: 1599 entries, 0 to 1598\n",
      "Data columns (total 12 columns):\n",
      " #   Column                Non-Null Count  Dtype  \n",
      "---  ------                --------------  -----  \n",
      " 0   fixed acidity         1599 non-null   float64\n",
      " 1   volatile acidity      1599 non-null   float64\n",
      " 2   citric acid           1599 non-null   float64\n",
      " 3   residual sugar        1599 non-null   float64\n",
      " 4   chlorides             1599 non-null   float64\n",
      " 5   free sulfur dioxide   1599 non-null   float64\n",
      " 6   total sulfur dioxide  1599 non-null   float64\n",
      " 7   density               1599 non-null   float64\n",
      " 8   pH                    1599 non-null   float64\n",
      " 9   sulphates             1599 non-null   float64\n",
      " 10  alcohol               1599 non-null   float64\n",
      " 11  quality               1599 non-null   float64\n",
      "dtypes: float64(12)\n",
      "memory usage: 150.0 KB\n"
     ]
    }
   ],
   "source": [
    "df_red.info()"
   ],
   "metadata": {
    "collapsed": false,
    "pycharm": {
     "name": "#%%\n"
    }
   }
  },
  {
   "cell_type": "code",
   "execution_count": 1978,
   "outputs": [
    {
     "data": {
      "text/plain": "<AxesSubplot:>"
     },
     "execution_count": 1978,
     "metadata": {},
     "output_type": "execute_result"
    },
    {
     "data": {
      "text/plain": "<Figure size 432x288 with 1 Axes>",
      "image/png": "[encoded data removed]"
     },
     "metadata": {
      "needs_background": "light"
     },
     "output_type": "display_data"
    }
   ],
   "source": [
    "# restore data\n",
    "df_red = pd.read_csv(\"winequality-red.csv\")\n",
    "# normalize to detect outliers\n",
    "min_max_scaler = preprocessing.MinMaxScaler()\n",
    "df_red_scaled = pd.DataFrame(data_scaler(df_red.values))\n",
    "df_red_scaled.boxplot()"
   ],
   "metadata": {
    "collapsed": false,
    "pycharm": {
     "name": "#%%\n"
    }
   }
  },
  {
   "cell_type": "code",
   "execution_count": 1979,
   "outputs": [
    {
     "name": "stdout",
     "output_type": "stream",
     "text": [
      "0: fixed acidity,1: volatile acidity,2: citric acid,3: residual sugar,4: chlorides,5: free sulfur dioxide,6: total sulfur dioxide,7: density,8: pH,9: sulphates,10: alcohol,11: quality,"
     ]
    }
   ],
   "source": [
    "#columns\n",
    "i = 0\n",
    "for column in df_red.columns:\n",
    "    print(f'{i}: {column}',end=',')\n",
    "    i += 1"
   ],
   "metadata": {
    "collapsed": false,
    "pycharm": {
     "name": "#%%\n"
    }
   }
  },
  {
   "cell_type": "markdown",
   "source": [
    "* we don't have missing values (null cases)\n",
    "* there are some outliers that means data < 25th and > 75th"
   ],
   "metadata": {
    "collapsed": false
   }
  },
  {
   "cell_type": "markdown",
   "source": [
    "###### Data cleaning"
   ],
   "metadata": {
    "collapsed": false
   }
  },
  {
   "cell_type": "markdown",
   "source": [
    "Z-score (also called a standard score) gives you an idea of how far from the mean a data point is. But more technically it’s a measure of how many standard deviations below or above the population mean a raw score is.\n",
    "\n",
    "A z-score can be placed on a normal distribution curve. Z-scores range from -3 standard deviations (which would fall to the far left of the normal distribution curve) up to +3 standard deviations (which would fall to the far right of the normal distribution curve). In order to use a z-score, you need to know the mean μ and also the population standard deviation σ."
   ],
   "metadata": {
    "collapsed": false
   }
  },
  {
   "cell_type": "code",
   "execution_count": 1980,
   "outputs": [
    {
     "data": {
      "text/plain": "(1451, 12)"
     },
     "execution_count": 1980,
     "metadata": {},
     "output_type": "execute_result"
    }
   ],
   "source": [
    "# remove outliers\n",
    "z_scores = zscore(df_red)\n",
    "abs_z_scores = np.abs(z_scores)\n",
    "filtered_entries = (abs_z_scores < 3).all(axis=1)\n",
    "df_red_new = df_red[filtered_entries]\n",
    "df_red_new.shape"
   ],
   "metadata": {
    "collapsed": false,
    "pycharm": {
     "name": "#%%\n"
    }
   }
  },
  {
   "cell_type": "markdown",
   "source": [
    "###### Data normalization"
   ],
   "metadata": {
    "collapsed": false
   }
  },
  {
   "cell_type": "code",
   "execution_count": 1981,
   "outputs": [
    {
     "data": {
      "text/plain": "      fixed acidity  volatile acidity  citric acid  residual sugar  chlorides  \\\n0          0.282353          0.630435     0.000000        0.127273   0.202128   \n1          0.329412          0.826087     0.000000        0.254545   0.319149   \n2          0.329412          0.695652     0.050633        0.200000   0.287234   \n3          0.729412          0.173913     0.708861        0.127273   0.196809   \n4          0.282353          0.630435     0.000000        0.127273   0.202128   \n...             ...               ...          ...             ...        ...   \n1446       0.141176          0.521739     0.101266        0.145455   0.276596   \n1447       0.105882          0.467391     0.126582        0.181818   0.127660   \n1448       0.152941          0.423913     0.164557        0.200000   0.202128   \n1449       0.105882          0.570652     0.151899        0.145455   0.196809   \n1450       0.117647          0.206522     0.594937        0.436364   0.154255   \n\n      free sulfur dioxide  total sulfur dioxide   density        pH  \\\n0                0.217391              0.201439  0.588785  0.724138   \n1                0.521739              0.438849  0.495327  0.367816   \n2                0.304348              0.345324  0.514019  0.436782   \n3                0.347826              0.388489  0.607477  0.321839   \n4                0.217391              0.201439  0.588785  0.724138   \n...                   ...                   ...       ...       ...   \n1446             0.673913              0.273381  0.317757  0.655172   \n1447             0.826087              0.323741  0.338318  0.735632   \n1448             0.608696              0.244604  0.396262  0.620690   \n1449             0.673913              0.273381  0.371028  0.793103   \n1450             0.369565              0.258993  0.372897  0.586207   \n\n      sulphates   alcohol  \n0      0.277108  0.176471  \n1      0.421687  0.254902  \n2      0.385542  0.254902  \n3      0.301205  0.254902  \n4      0.277108  0.176471  \n...         ...       ...  \n1446   0.301205  0.392157  \n1447   0.518072  0.529412  \n1448   0.506024  0.490196  \n1449   0.457831  0.333333  \n1450   0.397590  0.490196  \n\n[1451 rows x 11 columns]",
      "text/html": "<div>\n<style scoped>\n    .dataframe tbody tr th:only-of-type {\n        vertical-align: middle;\n    }\n\n    .dataframe tbody tr th {\n        vertical-align: top;\n    }\n\n    .dataframe thead th {\n        text-align: right;\n    }\n</style>\n<table border=\"1\" class=\"dataframe\">\n  <thead>\n    <tr style=\"text-align: right;\">\n      <th></th>\n      <th>fixed acidity</th>\n      <th>volatile acidity</th>\n      <th>citric acid</th>\n      <th>residual sugar</th>\n      <th>chlorides</th>\n      <th>free sulfur dioxide</th>\n      <th>total sulfur dioxide</th>\n      <th>density</th>\n      <th>pH</th>\n      <th>sulphates</th>\n      <th>alcohol</th>\n    </tr>\n  </thead>\n  <tbody>\n    <tr>\n      <th>0</th>\n      <td>0.282353</td>\n      <td>0.630435</td>\n      <td>0.000000</td>\n      <td>0.127273</td>\n      <td>0.202128</td>\n      <td>0.217391</td>\n      <td>0.201439</td>\n      <td>0.588785</td>\n      <td>0.724138</td>\n      <td>0.277108</td>\n      <td>0.176471</td>\n    </tr>\n    <tr>\n      <th>1</th>\n      <td>0.329412</td>\n      <td>0.826087</td>\n      <td>0.000000</td>\n      <td>0.254545</td>\n      <td>0.319149</td>\n      <td>0.521739</td>\n      <td>0.438849</td>\n      <td>0.495327</td>\n      <td>0.367816</td>\n      <td>0.421687</td>\n      <td>0.254902</td>\n    </tr>\n    <tr>\n      <th>2</th>\n      <td>0.329412</td>\n      <td>0.695652</td>\n      <td>0.050633</td>\n      <td>0.200000</td>\n      <td>0.287234</td>\n      <td>0.304348</td>\n      <td>0.345324</td>\n      <td>0.514019</td>\n      <td>0.436782</td>\n      <td>0.385542</td>\n      <td>0.254902</td>\n    </tr>\n    <tr>\n      <th>3</th>\n      <td>0.729412</td>\n      <td>0.173913</td>\n      <td>0.708861</td>\n      <td>0.127273</td>\n      <td>0.196809</td>\n      <td>0.347826</td>\n      <td>0.388489</td>\n      <td>0.607477</td>\n      <td>0.321839</td>\n      <td>0.301205</td>\n      <td>0.254902</td>\n    </tr>\n    <tr>\n      <th>4</th>\n      <td>0.282353</td>\n      <td>0.630435</td>\n      <td>0.000000</td>\n      <td>0.127273</td>\n      <td>0.202128</td>\n      <td>0.217391</td>\n      <td>0.201439</td>\n      <td>0.588785</td>\n      <td>0.724138</td>\n      <td>0.277108</td>\n      <td>0.176471</td>\n    </tr>\n    <tr>\n      <th>...</th>\n      <td>...</td>\n      <td>...</td>\n      <td>...</td>\n      <td>...</td>\n      <td>...</td>\n      <td>...</td>\n      <td>...</td>\n      <td>...</td>\n      <td>...</td>\n      <td>...</td>\n      <td>...</td>\n    </tr>\n    <tr>\n      <th>1446</th>\n      <td>0.141176</td>\n      <td>0.521739</td>\n      <td>0.101266</td>\n      <td>0.145455</td>\n      <td>0.276596</td>\n      <td>0.673913</td>\n      <td>0.273381</td>\n      <td>0.317757</td>\n      <td>0.655172</td>\n      <td>0.301205</td>\n      <td>0.392157</td>\n    </tr>\n    <tr>\n      <th>1447</th>\n      <td>0.105882</td>\n      <td>0.467391</td>\n      <td>0.126582</td>\n      <td>0.181818</td>\n      <td>0.127660</td>\n      <td>0.826087</td>\n      <td>0.323741</td>\n      <td>0.338318</td>\n      <td>0.735632</td>\n      <td>0.518072</td>\n      <td>0.529412</td>\n    </tr>\n    <tr>\n      <th>1448</th>\n      <td>0.152941</td>\n      <td>0.423913</td>\n      <td>0.164557</td>\n      <td>0.200000</td>\n      <td>0.202128</td>\n      <td>0.608696</td>\n      <td>0.244604</td>\n      <td>0.396262</td>\n      <td>0.620690</td>\n      <td>0.506024</td>\n      <td>0.490196</td>\n    </tr>\n    <tr>\n      <th>1449</th>\n      <td>0.105882</td>\n      <td>0.570652</td>\n      <td>0.151899</td>\n      <td>0.145455</td>\n      <td>0.196809</td>\n      <td>0.673913</td>\n      <td>0.273381</td>\n      <td>0.371028</td>\n      <td>0.793103</td>\n      <td>0.457831</td>\n      <td>0.333333</td>\n    </tr>\n    <tr>\n      <th>1450</th>\n      <td>0.117647</td>\n      <td>0.206522</td>\n      <td>0.594937</td>\n      <td>0.436364</td>\n      <td>0.154255</td>\n      <td>0.369565</td>\n      <td>0.258993</td>\n      <td>0.372897</td>\n      <td>0.586207</td>\n      <td>0.397590</td>\n      <td>0.490196</td>\n    </tr>\n  </tbody>\n</table>\n<p>1451 rows × 11 columns</p>\n</div>"
     },
     "execution_count": 1981,
     "metadata": {},
     "output_type": "execute_result"
    }
   ],
   "source": [
    "x = df_red_new.iloc[:,:-1]\n",
    "y = df_red_new.iloc[:,-1]\n",
    "df_x = pd.DataFrame(data_scaler(x.values), columns=df_red.columns[:-1])\n",
    "df_x"
   ],
   "metadata": {
    "collapsed": false,
    "pycharm": {
     "name": "#%%\n"
    }
   }
  },
  {
   "cell_type": "code",
   "execution_count": 1982,
   "outputs": [],
   "source": [
    "df_y = pd.DataFrame(y)\n",
    "# df_y"
   ],
   "metadata": {
    "collapsed": false,
    "pycharm": {
     "name": "#%%\n"
    }
   }
  },
  {
   "cell_type": "code",
   "execution_count": 1983,
   "outputs": [
    {
     "data": {
      "text/plain": "      quality quality_label\n0           5           bad\n1           5           bad\n2           5           bad\n3           6          good\n4           5           bad\n...       ...           ...\n1594        5           bad\n1595        6          good\n1596        6          good\n1597        5           bad\n1598        6          good\n\n[1451 rows x 2 columns]",
      "text/html": "<div>\n<style scoped>\n    .dataframe tbody tr th:only-of-type {\n        vertical-align: middle;\n    }\n\n    .dataframe tbody tr th {\n        vertical-align: top;\n    }\n\n    .dataframe thead th {\n        text-align: right;\n    }\n</style>\n<table border=\"1\" class=\"dataframe\">\n  <thead>\n    <tr style=\"text-align: right;\">\n      <th></th>\n      <th>quality</th>\n      <th>quality_label</th>\n    </tr>\n  </thead>\n  <tbody>\n    <tr>\n      <th>0</th>\n      <td>5</td>\n      <td>bad</td>\n    </tr>\n    <tr>\n      <th>1</th>\n      <td>5</td>\n      <td>bad</td>\n    </tr>\n    <tr>\n      <th>2</th>\n      <td>5</td>\n      <td>bad</td>\n    </tr>\n    <tr>\n      <th>3</th>\n      <td>6</td>\n      <td>good</td>\n    </tr>\n    <tr>\n      <th>4</th>\n      <td>5</td>\n      <td>bad</td>\n    </tr>\n    <tr>\n      <th>...</th>\n      <td>...</td>\n      <td>...</td>\n    </tr>\n    <tr>\n      <th>1594</th>\n      <td>5</td>\n      <td>bad</td>\n    </tr>\n    <tr>\n      <th>1595</th>\n      <td>6</td>\n      <td>good</td>\n    </tr>\n    <tr>\n      <th>1596</th>\n      <td>6</td>\n      <td>good</td>\n    </tr>\n    <tr>\n      <th>1597</th>\n      <td>5</td>\n      <td>bad</td>\n    </tr>\n    <tr>\n      <th>1598</th>\n      <td>6</td>\n      <td>good</td>\n    </tr>\n  </tbody>\n</table>\n<p>1451 rows × 2 columns</p>\n</div>"
     },
     "execution_count": 1983,
     "metadata": {},
     "output_type": "execute_result"
    }
   ],
   "source": [
    "qualities = ['quality', 'quality_label']\n",
    "df_y_s = quality_labeller(df_y)\n",
    "df_y = df_y_s.iloc[:,-1]\n",
    "df_y_s"
   ],
   "metadata": {
    "collapsed": false,
    "pycharm": {
     "name": "#%%\n"
    }
   }
  },
  {
   "cell_type": "markdown",
   "source": [
    "###### Splitting data"
   ],
   "metadata": {
    "collapsed": false
   }
  },
  {
   "cell_type": "code",
   "execution_count": 1984,
   "outputs": [],
   "source": [
    "x_train, x_test, y_train, y_test = train_test_split(df_x,df_y,test_size = 0.2,random_state = 0)"
   ],
   "metadata": {
    "collapsed": false,
    "pycharm": {
     "name": "#%%\n"
    }
   }
  },
  {
   "cell_type": "code",
   "execution_count": 1985,
   "outputs": [
    {
     "name": "stdout",
     "output_type": "stream",
     "text": [
      "Training set has 1160 samples\n",
      "Testing set has 291 samples\n"
     ]
    }
   ],
   "source": [
    "print(f'Training set has {x_train.shape[0]} samples')\n",
    "print(f'Testing set has {x_test.shape[0]} samples')"
   ],
   "metadata": {
    "collapsed": false,
    "pycharm": {
     "name": "#%%\n"
    }
   }
  },
  {
   "cell_type": "markdown",
   "source": [
    "###### Decision Trees"
   ],
   "metadata": {
    "collapsed": false
   }
  },
  {
   "cell_type": "code",
   "execution_count": 1986,
   "outputs": [],
   "source": [
    "decision_tree = DecisionTreeClassifier(random_state = 0)\n",
    "decision_tree.fit(x_train, y_train)\n",
    "y_pred_decision_tree = decision_tree.predict(x_test)"
   ],
   "metadata": {
    "collapsed": false,
    "pycharm": {
     "name": "#%%\n"
    }
   }
  },
  {
   "cell_type": "code",
   "execution_count": 1987,
   "outputs": [
    {
     "name": "stdout",
     "output_type": "stream",
     "text": [
      "              precision    recall  f1-score   support\n",
      "\n",
      "         bad       0.69      0.66      0.67       128\n",
      "        good       0.74      0.76      0.75       163\n",
      "\n",
      "    accuracy                           0.72       291\n",
      "   macro avg       0.71      0.71      0.71       291\n",
      "weighted avg       0.72      0.72      0.72       291\n",
      "\n"
     ]
    }
   ],
   "source": [
    "decision_tree_report = classification_report(y_test, y_pred_decision_tree, output_dict=True)\n",
    "print(classification_report(y_test, y_pred_decision_tree))"
   ],
   "metadata": {
    "collapsed": false,
    "pycharm": {
     "name": "#%%\n"
    }
   }
  },
  {
   "cell_type": "code",
   "execution_count": 1988,
   "outputs": [
    {
     "data": {
      "text/plain": "<AxesSubplot:>"
     },
     "execution_count": 1988,
     "metadata": {},
     "output_type": "execute_result"
    },
    {
     "data": {
      "text/plain": "<Figure size 432x288 with 2 Axes>",
      "image/png": "[encoded data removed]"
     },
     "metadata": {
      "needs_background": "light"
     },
     "output_type": "display_data"
    }
   ],
   "source": [
    "sns.heatmap(pd.DataFrame(decision_tree_report).iloc[:-1, :].T, annot=True)"
   ],
   "metadata": {
    "collapsed": false,
    "pycharm": {
     "name": "#%%\n"
    }
   }
  },
  {
   "cell_type": "code",
   "execution_count": 1989,
   "outputs": [
    {
     "data": {
      "text/plain": "<Figure size 432x288 with 2 Axes>",
      "image/png": "[encoded data removed]"
     },
     "metadata": {
      "needs_background": "light"
     },
     "output_type": "display_data"
    }
   ],
   "source": [
    "cm = confusion_matrix(y_test, y_pred_decision_tree, labels=['bad', 'good'])\n",
    "disp = ConfusionMatrixDisplay(confusion_matrix=cm, display_labels=['bad', 'good'])\n",
    "disp.plot()\n",
    "plt.show()"
   ],
   "metadata": {
    "collapsed": false,
    "pycharm": {
     "name": "#%%\n"
    }
   }
  },
  {
   "cell_type": "markdown",
   "source": [
    "###### Multi-layer perceptron"
   ],
   "metadata": {
    "collapsed": false
   }
  },
  {
   "cell_type": "code",
   "execution_count": 1990,
   "outputs": [],
   "source": [
    "mlp_classifier = MLPClassifier(max_iter=1000)\n",
    "mlp_classifier.fit(x_train, y_train)\n",
    "y_pred_mlp = mlp_classifier.predict(x_test)"
   ],
   "metadata": {
    "collapsed": false,
    "pycharm": {
     "name": "#%%\n"
    }
   }
  },
  {
   "cell_type": "code",
   "execution_count": 1991,
   "outputs": [
    {
     "name": "stdout",
     "output_type": "stream",
     "text": [
      "              precision    recall  f1-score   support\n",
      "\n",
      "         bad       0.69      0.75      0.72       128\n",
      "        good       0.79      0.74      0.76       163\n",
      "\n",
      "    accuracy                           0.74       291\n",
      "   macro avg       0.74      0.74      0.74       291\n",
      "weighted avg       0.75      0.74      0.74       291\n",
      "\n"
     ]
    }
   ],
   "source": [
    "mlp_report = classification_report(y_test, y_pred_mlp, output_dict=True)\n",
    "print(classification_report(y_test, y_pred_mlp))"
   ],
   "metadata": {
    "collapsed": false,
    "pycharm": {
     "name": "#%%\n"
    }
   }
  },
  {
   "cell_type": "code",
   "execution_count": 1992,
   "outputs": [
    {
     "data": {
      "text/plain": "<AxesSubplot:>"
     },
     "execution_count": 1992,
     "metadata": {},
     "output_type": "execute_result"
    },
    {
     "data": {
      "text/plain": "<Figure size 432x288 with 2 Axes>",
      "image/png": "[encoded data removed]"
     },
     "metadata": {
      "needs_background": "light"
     },
     "output_type": "display_data"
    }
   ],
   "source": [
    "sns.heatmap(pd.DataFrame(mlp_report).iloc[:-1, :].T, annot=True)"
   ],
   "metadata": {
    "collapsed": false,
    "pycharm": {
     "name": "#%%\n"
    }
   }
  },
  {
   "cell_type": "code",
   "execution_count": 1993,
   "outputs": [
    {
     "data": {
      "text/plain": "<Figure size 432x288 with 2 Axes>",
      "image/png": "[encoded data removed]"
     },
     "metadata": {
      "needs_background": "light"
     },
     "output_type": "display_data"
    }
   ],
   "source": [
    "cm = confusion_matrix(y_test, y_pred_mlp, labels=['bad', 'good'])\n",
    "disp = ConfusionMatrixDisplay(confusion_matrix=cm, display_labels=['bad', 'good'])\n",
    "disp.plot()\n",
    "plt.show()"
   ],
   "metadata": {
    "collapsed": false,
    "pycharm": {
     "name": "#%%\n"
    }
   }
  },
  {
   "cell_type": "markdown",
   "source": [
    "###### k-NN"
   ],
   "metadata": {
    "collapsed": false
   }
  },
  {
   "cell_type": "code",
   "execution_count": 1994,
   "outputs": [],
   "source": [
    "knn = KNeighborsClassifier()\n",
    "knn.fit(x_train, y_train)\n",
    "y_pred_knn = knn.predict(x_test)"
   ],
   "metadata": {
    "collapsed": false,
    "pycharm": {
     "name": "#%%\n"
    }
   }
  },
  {
   "cell_type": "code",
   "execution_count": 1995,
   "outputs": [
    {
     "name": "stdout",
     "output_type": "stream",
     "text": [
      "              precision    recall  f1-score   support\n",
      "\n",
      "         bad       0.67      0.62      0.65       128\n",
      "        good       0.72      0.75      0.74       163\n",
      "\n",
      "    accuracy                           0.70       291\n",
      "   macro avg       0.69      0.69      0.69       291\n",
      "weighted avg       0.70      0.70      0.70       291\n",
      "\n"
     ]
    }
   ],
   "source": [
    "knn_report = classification_report(y_test, y_pred_knn, output_dict=True)\n",
    "print(classification_report(y_test, y_pred_knn))"
   ],
   "metadata": {
    "collapsed": false,
    "pycharm": {
     "name": "#%%\n"
    }
   }
  },
  {
   "cell_type": "code",
   "execution_count": 1996,
   "outputs": [
    {
     "data": {
      "text/plain": "<AxesSubplot:>"
     },
     "execution_count": 1996,
     "metadata": {},
     "output_type": "execute_result"
    },
    {
     "data": {
      "text/plain": "<Figure size 432x288 with 2 Axes>",
      "image/png": "[encoded data removed]"
     },
     "metadata": {
      "needs_background": "light"
     },
     "output_type": "display_data"
    }
   ],
   "source": [
    "sns.heatmap(pd.DataFrame(knn_report).iloc[:-1, :].T, annot=True)"
   ],
   "metadata": {
    "collapsed": false,
    "pycharm": {
     "name": "#%%\n"
    }
   }
  },
  {
   "cell_type": "code",
   "execution_count": 1997,
   "outputs": [
    {
     "data": {
      "text/plain": "<Figure size 432x288 with 2 Axes>",
      "image/png": "[encoded data removed]"
     },
     "metadata": {
      "needs_background": "light"
     },
     "output_type": "display_data"
    }
   ],
   "source": [
    "cm = confusion_matrix(y_test, y_pred_knn, labels=['bad', 'good'])\n",
    "disp = ConfusionMatrixDisplay(confusion_matrix=cm, display_labels=['bad', 'good'])\n",
    "disp.plot()\n",
    "plt.show()\n",
    "\n",
    "\n",
    "\n",
    "\n",
    "\n",
    "\n",
    "\n",
    "\n",
    "\n",
    "\n",
    "\n",
    "\n",
    "\n",
    "\n",
    "\n",
    "\n",
    "\n",
    "\n",
    "\n",
    "\n",
    "\n",
    "\n",
    "\n",
    "\n",
    "\n",
    "\n",
    "\n",
    "\n"
   ],
   "metadata": {
    "collapsed": false,
    "pycharm": {
     "name": "#%%\n"
    }
   }
  },
  {
   "cell_type": "markdown",
   "source": [
    "##### Read White Wine"
   ],
   "metadata": {
    "collapsed": false
   }
  },
  {
   "cell_type": "code",
   "execution_count": 1998,
   "outputs": [
    {
     "data": {
      "text/plain": "   fixed acidity  volatile acidity  citric acid  residual sugar  chlorides  \\\n0            7.0              0.27         0.36            20.7      0.045   \n1            6.3              0.30         0.34             1.6      0.049   \n2            8.1              0.28         0.40             6.9      0.050   \n3            7.2              0.23         0.32             8.5      0.058   \n4            7.2              0.23         0.32             8.5      0.058   \n\n   free sulfur dioxide  total sulfur dioxide  density    pH  sulphates  \\\n0                 45.0                 170.0   1.0010  3.00       0.45   \n1                 14.0                 132.0   0.9940  3.30       0.49   \n2                 30.0                  97.0   0.9951  3.26       0.44   \n3                 47.0                 186.0   0.9956  3.19       0.40   \n4                 47.0                 186.0   0.9956  3.19       0.40   \n\n   alcohol  quality  \n0      8.8        6  \n1      9.5        6  \n2     10.1        6  \n3      9.9        6  \n4      9.9        6  ",
      "text/html": "<div>\n<style scoped>\n    .dataframe tbody tr th:only-of-type {\n        vertical-align: middle;\n    }\n\n    .dataframe tbody tr th {\n        vertical-align: top;\n    }\n\n    .dataframe thead th {\n        text-align: right;\n    }\n</style>\n<table border=\"1\" class=\"dataframe\">\n  <thead>\n    <tr style=\"text-align: right;\">\n      <th></th>\n      <th>fixed acidity</th>\n      <th>volatile acidity</th>\n      <th>citric acid</th>\n      <th>residual sugar</th>\n      <th>chlorides</th>\n      <th>free sulfur dioxide</th>\n      <th>total sulfur dioxide</th>\n      <th>density</th>\n      <th>pH</th>\n      <th>sulphates</th>\n      <th>alcohol</th>\n      <th>quality</th>\n    </tr>\n  </thead>\n  <tbody>\n    <tr>\n      <th>0</th>\n      <td>7.0</td>\n      <td>0.27</td>\n      <td>0.36</td>\n      <td>20.7</td>\n      <td>0.045</td>\n      <td>45.0</td>\n      <td>170.0</td>\n      <td>1.0010</td>\n      <td>3.00</td>\n      <td>0.45</td>\n      <td>8.8</td>\n      <td>6</td>\n    </tr>\n    <tr>\n      <th>1</th>\n      <td>6.3</td>\n      <td>0.30</td>\n      <td>0.34</td>\n      <td>1.6</td>\n      <td>0.049</td>\n      <td>14.0</td>\n      <td>132.0</td>\n      <td>0.9940</td>\n      <td>3.30</td>\n      <td>0.49</td>\n      <td>9.5</td>\n      <td>6</td>\n    </tr>\n    <tr>\n      <th>2</th>\n      <td>8.1</td>\n      <td>0.28</td>\n      <td>0.40</td>\n      <td>6.9</td>\n      <td>0.050</td>\n      <td>30.0</td>\n      <td>97.0</td>\n      <td>0.9951</td>\n      <td>3.26</td>\n      <td>0.44</td>\n      <td>10.1</td>\n      <td>6</td>\n    </tr>\n    <tr>\n      <th>3</th>\n      <td>7.2</td>\n      <td>0.23</td>\n      <td>0.32</td>\n      <td>8.5</td>\n      <td>0.058</td>\n      <td>47.0</td>\n      <td>186.0</td>\n      <td>0.9956</td>\n      <td>3.19</td>\n      <td>0.40</td>\n      <td>9.9</td>\n      <td>6</td>\n    </tr>\n    <tr>\n      <th>4</th>\n      <td>7.2</td>\n      <td>0.23</td>\n      <td>0.32</td>\n      <td>8.5</td>\n      <td>0.058</td>\n      <td>47.0</td>\n      <td>186.0</td>\n      <td>0.9956</td>\n      <td>3.19</td>\n      <td>0.40</td>\n      <td>9.9</td>\n      <td>6</td>\n    </tr>\n  </tbody>\n</table>\n</div>"
     },
     "execution_count": 1998,
     "metadata": {},
     "output_type": "execute_result"
    }
   ],
   "source": [
    "df_white = pd.read_csv(\"winequality-white.csv\")\n",
    "df_white.head()"
   ],
   "metadata": {
    "collapsed": false,
    "pycharm": {
     "name": "#%%\n"
    }
   }
  },
  {
   "cell_type": "markdown",
   "source": [
    "###### Analysing"
   ],
   "metadata": {
    "collapsed": false
   }
  },
  {
   "cell_type": "code",
   "execution_count": 1999,
   "outputs": [
    {
     "name": "stdout",
     "output_type": "stream",
     "text": [
      "<class 'pandas.core.frame.DataFrame'>\n",
      "RangeIndex: 4898 entries, 0 to 4897\n",
      "Data columns (total 12 columns):\n",
      " #   Column                Non-Null Count  Dtype  \n",
      "---  ------                --------------  -----  \n",
      " 0   fixed acidity         4898 non-null   float64\n",
      " 1   volatile acidity      4898 non-null   float64\n",
      " 2   citric acid           4898 non-null   float64\n",
      " 3   residual sugar        4898 non-null   float64\n",
      " 4   chlorides             4898 non-null   float64\n",
      " 5   free sulfur dioxide   4898 non-null   float64\n",
      " 6   total sulfur dioxide  4898 non-null   float64\n",
      " 7   density               4898 non-null   float64\n",
      " 8   pH                    4898 non-null   float64\n",
      " 9   sulphates             4898 non-null   float64\n",
      " 10  alcohol               4898 non-null   float64\n",
      " 11  quality               4898 non-null   int64  \n",
      "dtypes: float64(11), int64(1)\n",
      "memory usage: 459.3 KB\n"
     ]
    }
   ],
   "source": [
    "df_white.info()"
   ],
   "metadata": {
    "collapsed": false,
    "pycharm": {
     "name": "#%%\n"
    }
   }
  },
  {
   "cell_type": "code",
   "execution_count": 2000,
   "outputs": [
    {
     "data": {
      "text/plain": "       fixed acidity  volatile acidity  citric acid  residual sugar  \\\ncount    4898.000000       4898.000000  4898.000000     4898.000000   \nmean        6.854788          0.278241     0.334192        6.391415   \nstd         0.843868          0.100795     0.121020        5.072058   \nmin         3.800000          0.080000     0.000000        0.600000   \n25%         6.300000          0.210000     0.270000        1.700000   \n50%         6.800000          0.260000     0.320000        5.200000   \n75%         7.300000          0.320000     0.390000        9.900000   \nmax        14.200000          1.100000     1.660000       65.800000   \n\n         chlorides  free sulfur dioxide  total sulfur dioxide      density  \\\ncount  4898.000000          4898.000000           4898.000000  4898.000000   \nmean      0.045772            35.308085            138.360657     0.994027   \nstd       0.021848            17.007137             42.498065     0.002991   \nmin       0.009000             2.000000              9.000000     0.987110   \n25%       0.036000            23.000000            108.000000     0.991723   \n50%       0.043000            34.000000            134.000000     0.993740   \n75%       0.050000            46.000000            167.000000     0.996100   \nmax       0.346000           289.000000            440.000000     1.038980   \n\n                pH    sulphates      alcohol      quality  \ncount  4898.000000  4898.000000  4898.000000  4898.000000  \nmean      3.188267     0.489847    10.514267     5.877909  \nstd       0.151001     0.114126     1.230621     0.885639  \nmin       2.720000     0.220000     8.000000     3.000000  \n25%       3.090000     0.410000     9.500000     5.000000  \n50%       3.180000     0.470000    10.400000     6.000000  \n75%       3.280000     0.550000    11.400000     6.000000  \nmax       3.820000     1.080000    14.200000     9.000000  ",
      "text/html": "<div>\n<style scoped>\n    .dataframe tbody tr th:only-of-type {\n        vertical-align: middle;\n    }\n\n    .dataframe tbody tr th {\n        vertical-align: top;\n    }\n\n    .dataframe thead th {\n        text-align: right;\n    }\n</style>\n<table border=\"1\" class=\"dataframe\">\n  <thead>\n    <tr style=\"text-align: right;\">\n      <th></th>\n      <th>fixed acidity</th>\n      <th>volatile acidity</th>\n      <th>citric acid</th>\n      <th>residual sugar</th>\n      <th>chlorides</th>\n      <th>free sulfur dioxide</th>\n      <th>total sulfur dioxide</th>\n      <th>density</th>\n      <th>pH</th>\n      <th>sulphates</th>\n      <th>alcohol</th>\n      <th>quality</th>\n    </tr>\n  </thead>\n  <tbody>\n    <tr>\n      <th>count</th>\n      <td>4898.000000</td>\n      <td>4898.000000</td>\n      <td>4898.000000</td>\n      <td>4898.000000</td>\n      <td>4898.000000</td>\n      <td>4898.000000</td>\n      <td>4898.000000</td>\n      <td>4898.000000</td>\n      <td>4898.000000</td>\n      <td>4898.000000</td>\n      <td>4898.000000</td>\n      <td>4898.000000</td>\n    </tr>\n    <tr>\n      <th>mean</th>\n      <td>6.854788</td>\n      <td>0.278241</td>\n      <td>0.334192</td>\n      <td>6.391415</td>\n      <td>0.045772</td>\n      <td>35.308085</td>\n      <td>138.360657</td>\n      <td>0.994027</td>\n      <td>3.188267</td>\n      <td>0.489847</td>\n      <td>10.514267</td>\n      <td>5.877909</td>\n    </tr>\n    <tr>\n      <th>std</th>\n      <td>0.843868</td>\n      <td>0.100795</td>\n      <td>0.121020</td>\n      <td>5.072058</td>\n      <td>0.021848</td>\n      <td>17.007137</td>\n      <td>42.498065</td>\n      <td>0.002991</td>\n      <td>0.151001</td>\n      <td>0.114126</td>\n      <td>1.230621</td>\n      <td>0.885639</td>\n    </tr>\n    <tr>\n      <th>min</th>\n      <td>3.800000</td>\n      <td>0.080000</td>\n      <td>0.000000</td>\n      <td>0.600000</td>\n      <td>0.009000</td>\n      <td>2.000000</td>\n      <td>9.000000</td>\n      <td>0.987110</td>\n      <td>2.720000</td>\n      <td>0.220000</td>\n      <td>8.000000</td>\n      <td>3.000000</td>\n    </tr>\n    <tr>\n      <th>25%</th>\n      <td>6.300000</td>\n      <td>0.210000</td>\n      <td>0.270000</td>\n      <td>1.700000</td>\n      <td>0.036000</td>\n      <td>23.000000</td>\n      <td>108.000000</td>\n      <td>0.991723</td>\n      <td>3.090000</td>\n      <td>0.410000</td>\n      <td>9.500000</td>\n      <td>5.000000</td>\n    </tr>\n    <tr>\n      <th>50%</th>\n      <td>6.800000</td>\n      <td>0.260000</td>\n      <td>0.320000</td>\n      <td>5.200000</td>\n      <td>0.043000</td>\n      <td>34.000000</td>\n      <td>134.000000</td>\n      <td>0.993740</td>\n      <td>3.180000</td>\n      <td>0.470000</td>\n      <td>10.400000</td>\n      <td>6.000000</td>\n    </tr>\n    <tr>\n      <th>75%</th>\n      <td>7.300000</td>\n      <td>0.320000</td>\n      <td>0.390000</td>\n      <td>9.900000</td>\n      <td>0.050000</td>\n      <td>46.000000</td>\n      <td>167.000000</td>\n      <td>0.996100</td>\n      <td>3.280000</td>\n      <td>0.550000</td>\n      <td>11.400000</td>\n      <td>6.000000</td>\n    </tr>\n    <tr>\n      <th>max</th>\n      <td>14.200000</td>\n      <td>1.100000</td>\n      <td>1.660000</td>\n      <td>65.800000</td>\n      <td>0.346000</td>\n      <td>289.000000</td>\n      <td>440.000000</td>\n      <td>1.038980</td>\n      <td>3.820000</td>\n      <td>1.080000</td>\n      <td>14.200000</td>\n      <td>9.000000</td>\n    </tr>\n  </tbody>\n</table>\n</div>"
     },
     "execution_count": 2000,
     "metadata": {},
     "output_type": "execute_result"
    }
   ],
   "source": [
    "df_white.describe()"
   ],
   "metadata": {
    "collapsed": false,
    "pycharm": {
     "name": "#%%\n"
    }
   }
  },
  {
   "cell_type": "code",
   "execution_count": 2001,
   "outputs": [
    {
     "data": {
      "text/plain": "fixed acidity           0\nvolatile acidity        0\ncitric acid             0\nresidual sugar          0\nchlorides               0\nfree sulfur dioxide     0\ntotal sulfur dioxide    0\ndensity                 0\npH                      0\nsulphates               0\nalcohol                 0\nquality                 0\ndtype: int64"
     },
     "execution_count": 2001,
     "metadata": {},
     "output_type": "execute_result"
    }
   ],
   "source": [
    "df_white.isna().sum()"
   ],
   "metadata": {
    "collapsed": false,
    "pycharm": {
     "name": "#%%\n"
    }
   }
  },
  {
   "cell_type": "code",
   "execution_count": 2002,
   "outputs": [
    {
     "data": {
      "text/plain": "fixed acidity           0\nvolatile acidity        0\ncitric acid             0\nresidual sugar          0\nchlorides               0\nfree sulfur dioxide     0\ntotal sulfur dioxide    0\ndensity                 0\npH                      0\nsulphates               0\nalcohol                 0\nquality                 0\ndtype: int64"
     },
     "execution_count": 2002,
     "metadata": {},
     "output_type": "execute_result"
    }
   ],
   "source": [
    "df_white.isnull().sum()"
   ],
   "metadata": {
    "collapsed": false,
    "pycharm": {
     "name": "#%%\n"
    }
   }
  },
  {
   "cell_type": "code",
   "execution_count": 2003,
   "outputs": [
    {
     "data": {
      "text/plain": "<AxesSubplot:>"
     },
     "execution_count": 2003,
     "metadata": {},
     "output_type": "execute_result"
    },
    {
     "data": {
      "text/plain": "<Figure size 432x288 with 1 Axes>",
      "image/png": "[encoded data removed]"
     },
     "metadata": {
      "needs_background": "light"
     },
     "output_type": "display_data"
    }
   ],
   "source": [
    "# normalize to detect outliers\n",
    "min_max_scaler = preprocessing.MinMaxScaler()\n",
    "df_white_scaled = pd.DataFrame(data_scaler(df_white.values))\n",
    "df_white_scaled.boxplot()"
   ],
   "metadata": {
    "collapsed": false,
    "pycharm": {
     "name": "#%%\n"
    }
   }
  },
  {
   "cell_type": "code",
   "execution_count": 2004,
   "outputs": [
    {
     "name": "stdout",
     "output_type": "stream",
     "text": [
      "0: fixed acidity,1: volatile acidity,2: citric acid,3: residual sugar,4: chlorides,5: free sulfur dioxide,6: total sulfur dioxide,7: density,8: pH,9: sulphates,10: alcohol,11: quality,"
     ]
    }
   ],
   "source": [
    "#columns\n",
    "i = 0\n",
    "for column in df_white.columns:\n",
    "    print(f'{i}: {column}',end=',')\n",
    "    i += 1"
   ],
   "metadata": {
    "collapsed": false,
    "pycharm": {
     "name": "#%%\n"
    }
   }
  },
  {
   "cell_type": "markdown",
   "source": [
    "* we don't have missing values (null cases)\n",
    "* there are some outliers that means data < 25th and > 75th"
   ],
   "metadata": {
    "collapsed": false
   }
  },
  {
   "cell_type": "markdown",
   "source": [
    "###### Data cleaning"
   ],
   "metadata": {
    "collapsed": false
   }
  },
  {
   "cell_type": "code",
   "execution_count": 2005,
   "outputs": [
    {
     "data": {
      "text/plain": "(4487, 12)"
     },
     "execution_count": 2005,
     "metadata": {},
     "output_type": "execute_result"
    }
   ],
   "source": [
    "# remove outliers\n",
    "z_scores = zscore(df_white)\n",
    "abs_z_scores = np.abs(z_scores)\n",
    "filtered_entries = (abs_z_scores < 3).all(axis=1)\n",
    "df_white_new = df_white[filtered_entries]\n",
    "df_white_new.shape"
   ],
   "metadata": {
    "collapsed": false,
    "pycharm": {
     "name": "#%%\n"
    }
   }
  },
  {
   "cell_type": "markdown",
   "source": [
    "###### Data normalization"
   ],
   "metadata": {
    "collapsed": false
   }
  },
  {
   "cell_type": "code",
   "execution_count": 2006,
   "outputs": [
    {
     "data": {
      "text/plain": "      fixed acidity  volatile acidity  citric acid  residual sugar  chlorides  \\\n0          0.530612              0.38     0.521739        0.995050   0.336735   \n1          0.387755              0.44     0.492754        0.049505   0.377551   \n2          0.755102              0.40     0.579710        0.311881   0.387755   \n3          0.571429              0.30     0.463768        0.391089   0.469388   \n4          0.571429              0.30     0.463768        0.391089   0.469388   \n...             ...               ...          ...             ...        ...   \n4482       0.367347              0.26     0.420290        0.049505   0.275510   \n4483       0.448980              0.48     0.521739        0.366337   0.357143   \n4484       0.428571              0.32     0.275362        0.029703   0.295918   \n4485       0.224490              0.42     0.434783        0.024752   0.102041   \n4486       0.326531              0.26     0.550725        0.009901   0.081633   \n\n      free sulfur dioxide  total sulfur dioxide   density        pH  \\\n0                0.511905              0.623431  0.935354  0.247059   \n1                0.142857              0.464435  0.463973  0.600000   \n2                0.333333              0.317992  0.538047  0.552941   \n3                0.535714              0.690377  0.571717  0.470588   \n4                0.535714              0.690377  0.571717  0.470588   \n...                   ...                   ...       ...       ...   \n4482             0.261905              0.297071  0.271380  0.564706   \n4483             0.654762              0.615063  0.524579  0.423529   \n4484             0.333333              0.376569  0.365657  0.235294   \n4485             0.214286              0.372385  0.106397  0.647059   \n4486             0.238095              0.322176  0.154882  0.552941   \n\n      sulphates   alcohol  \n0      0.377049  0.068966  \n1      0.442623  0.189655  \n2      0.360656  0.293103  \n3      0.295082  0.258621  \n4      0.295082  0.258621  \n...         ...       ...  \n4482   0.459016  0.482759  \n4483   0.393443  0.206897  \n4484   0.393443  0.172414  \n4485   0.262295  0.758621  \n4486   0.163934  0.586207  \n\n[4487 rows x 11 columns]",
      "text/html": "<div>\n<style scoped>\n    .dataframe tbody tr th:only-of-type {\n        vertical-align: middle;\n    }\n\n    .dataframe tbody tr th {\n        vertical-align: top;\n    }\n\n    .dataframe thead th {\n        text-align: right;\n    }\n</style>\n<table border=\"1\" class=\"dataframe\">\n  <thead>\n    <tr style=\"text-align: right;\">\n      <th></th>\n      <th>fixed acidity</th>\n      <th>volatile acidity</th>\n      <th>citric acid</th>\n      <th>residual sugar</th>\n      <th>chlorides</th>\n      <th>free sulfur dioxide</th>\n      <th>total sulfur dioxide</th>\n      <th>density</th>\n      <th>pH</th>\n      <th>sulphates</th>\n      <th>alcohol</th>\n    </tr>\n  </thead>\n  <tbody>\n    <tr>\n      <th>0</th>\n      <td>0.530612</td>\n      <td>0.38</td>\n      <td>0.521739</td>\n      <td>0.995050</td>\n      <td>0.336735</td>\n      <td>0.511905</td>\n      <td>0.623431</td>\n      <td>0.935354</td>\n      <td>0.247059</td>\n      <td>0.377049</td>\n      <td>0.068966</td>\n    </tr>\n    <tr>\n      <th>1</th>\n      <td>0.387755</td>\n      <td>0.44</td>\n      <td>0.492754</td>\n      <td>0.049505</td>\n      <td>0.377551</td>\n      <td>0.142857</td>\n      <td>0.464435</td>\n      <td>0.463973</td>\n      <td>0.600000</td>\n      <td>0.442623</td>\n      <td>0.189655</td>\n    </tr>\n    <tr>\n      <th>2</th>\n      <td>0.755102</td>\n      <td>0.40</td>\n      <td>0.579710</td>\n      <td>0.311881</td>\n      <td>0.387755</td>\n      <td>0.333333</td>\n      <td>0.317992</td>\n      <td>0.538047</td>\n      <td>0.552941</td>\n      <td>0.360656</td>\n      <td>0.293103</td>\n    </tr>\n    <tr>\n      <th>3</th>\n      <td>0.571429</td>\n      <td>0.30</td>\n      <td>0.463768</td>\n      <td>0.391089</td>\n      <td>0.469388</td>\n      <td>0.535714</td>\n      <td>0.690377</td>\n      <td>0.571717</td>\n      <td>0.470588</td>\n      <td>0.295082</td>\n      <td>0.258621</td>\n    </tr>\n    <tr>\n      <th>4</th>\n      <td>0.571429</td>\n      <td>0.30</td>\n      <td>0.463768</td>\n      <td>0.391089</td>\n      <td>0.469388</td>\n      <td>0.535714</td>\n      <td>0.690377</td>\n      <td>0.571717</td>\n      <td>0.470588</td>\n      <td>0.295082</td>\n      <td>0.258621</td>\n    </tr>\n    <tr>\n      <th>...</th>\n      <td>...</td>\n      <td>...</td>\n      <td>...</td>\n      <td>...</td>\n      <td>...</td>\n      <td>...</td>\n      <td>...</td>\n      <td>...</td>\n      <td>...</td>\n      <td>...</td>\n      <td>...</td>\n    </tr>\n    <tr>\n      <th>4482</th>\n      <td>0.367347</td>\n      <td>0.26</td>\n      <td>0.420290</td>\n      <td>0.049505</td>\n      <td>0.275510</td>\n      <td>0.261905</td>\n      <td>0.297071</td>\n      <td>0.271380</td>\n      <td>0.564706</td>\n      <td>0.459016</td>\n      <td>0.482759</td>\n    </tr>\n    <tr>\n      <th>4483</th>\n      <td>0.448980</td>\n      <td>0.48</td>\n      <td>0.521739</td>\n      <td>0.366337</td>\n      <td>0.357143</td>\n      <td>0.654762</td>\n      <td>0.615063</td>\n      <td>0.524579</td>\n      <td>0.423529</td>\n      <td>0.393443</td>\n      <td>0.206897</td>\n    </tr>\n    <tr>\n      <th>4484</th>\n      <td>0.428571</td>\n      <td>0.32</td>\n      <td>0.275362</td>\n      <td>0.029703</td>\n      <td>0.295918</td>\n      <td>0.333333</td>\n      <td>0.376569</td>\n      <td>0.365657</td>\n      <td>0.235294</td>\n      <td>0.393443</td>\n      <td>0.172414</td>\n    </tr>\n    <tr>\n      <th>4485</th>\n      <td>0.224490</td>\n      <td>0.42</td>\n      <td>0.434783</td>\n      <td>0.024752</td>\n      <td>0.102041</td>\n      <td>0.214286</td>\n      <td>0.372385</td>\n      <td>0.106397</td>\n      <td>0.647059</td>\n      <td>0.262295</td>\n      <td>0.758621</td>\n    </tr>\n    <tr>\n      <th>4486</th>\n      <td>0.326531</td>\n      <td>0.26</td>\n      <td>0.550725</td>\n      <td>0.009901</td>\n      <td>0.081633</td>\n      <td>0.238095</td>\n      <td>0.322176</td>\n      <td>0.154882</td>\n      <td>0.552941</td>\n      <td>0.163934</td>\n      <td>0.586207</td>\n    </tr>\n  </tbody>\n</table>\n<p>4487 rows × 11 columns</p>\n</div>"
     },
     "execution_count": 2006,
     "metadata": {},
     "output_type": "execute_result"
    }
   ],
   "source": [
    "x = df_white_new.iloc[:,:-1]\n",
    "y = df_white_new.iloc[:,-1]\n",
    "df_x = pd.DataFrame(data_scaler(x.values), columns=df_white.columns[:-1])\n",
    "df_x"
   ],
   "metadata": {
    "collapsed": false,
    "pycharm": {
     "name": "#%%\n"
    }
   }
  },
  {
   "cell_type": "code",
   "execution_count": 2007,
   "outputs": [],
   "source": [
    "df_y = pd.DataFrame(y)\n",
    "# df_y"
   ],
   "metadata": {
    "collapsed": false,
    "pycharm": {
     "name": "#%%\n"
    }
   }
  },
  {
   "cell_type": "code",
   "execution_count": 2008,
   "outputs": [
    {
     "data": {
      "text/plain": "      quality quality_label\n0           6          good\n1           6          good\n2           6          good\n3           6          good\n4           6          good\n...       ...           ...\n4893        6          good\n4894        5           bad\n4895        6          good\n4896        7          good\n4897        6          good\n\n[4487 rows x 2 columns]",
      "text/html": "<div>\n<style scoped>\n    .dataframe tbody tr th:only-of-type {\n        vertical-align: middle;\n    }\n\n    .dataframe tbody tr th {\n        vertical-align: top;\n    }\n\n    .dataframe thead th {\n        text-align: right;\n    }\n</style>\n<table border=\"1\" class=\"dataframe\">\n  <thead>\n    <tr style=\"text-align: right;\">\n      <th></th>\n      <th>quality</th>\n      <th>quality_label</th>\n    </tr>\n  </thead>\n  <tbody>\n    <tr>\n      <th>0</th>\n      <td>6</td>\n      <td>good</td>\n    </tr>\n    <tr>\n      <th>1</th>\n      <td>6</td>\n      <td>good</td>\n    </tr>\n    <tr>\n      <th>2</th>\n      <td>6</td>\n      <td>good</td>\n    </tr>\n    <tr>\n      <th>3</th>\n      <td>6</td>\n      <td>good</td>\n    </tr>\n    <tr>\n      <th>4</th>\n      <td>6</td>\n      <td>good</td>\n    </tr>\n    <tr>\n      <th>...</th>\n      <td>...</td>\n      <td>...</td>\n    </tr>\n    <tr>\n      <th>4893</th>\n      <td>6</td>\n      <td>good</td>\n    </tr>\n    <tr>\n      <th>4894</th>\n      <td>5</td>\n      <td>bad</td>\n    </tr>\n    <tr>\n      <th>4895</th>\n      <td>6</td>\n      <td>good</td>\n    </tr>\n    <tr>\n      <th>4896</th>\n      <td>7</td>\n      <td>good</td>\n    </tr>\n    <tr>\n      <th>4897</th>\n      <td>6</td>\n      <td>good</td>\n    </tr>\n  </tbody>\n</table>\n<p>4487 rows × 2 columns</p>\n</div>"
     },
     "execution_count": 2008,
     "metadata": {},
     "output_type": "execute_result"
    }
   ],
   "source": [
    "qualities = ['quality', 'quality_label']\n",
    "qualities_labels = ['bad', 'good']\n",
    "df_y_s = quality_labeller(df_y, labels=qualities_labels)\n",
    "df_y = df_y_s.iloc[:,-1]\n",
    "df_y_s"
   ],
   "metadata": {
    "collapsed": false,
    "pycharm": {
     "name": "#%%\n"
    }
   }
  },
  {
   "cell_type": "markdown",
   "source": [
    "###### Splitting data"
   ],
   "metadata": {
    "collapsed": false
   }
  },
  {
   "cell_type": "code",
   "execution_count": 2009,
   "outputs": [],
   "source": [
    "x_train, x_test, y_train, y_test = train_test_split(df_x,df_y,test_size = 0.2,random_state = 0)"
   ],
   "metadata": {
    "collapsed": false,
    "pycharm": {
     "name": "#%%\n"
    }
   }
  },
  {
   "cell_type": "code",
   "execution_count": 2010,
   "outputs": [
    {
     "name": "stdout",
     "output_type": "stream",
     "text": [
      "Training set has 3589 samples\n",
      "Testing set has 898 samples\n"
     ]
    }
   ],
   "source": [
    "print(f'Training set has {x_train.shape[0]} samples')\n",
    "print(f'Testing set has {x_test.shape[0]} samples')"
   ],
   "metadata": {
    "collapsed": false,
    "pycharm": {
     "name": "#%%\n"
    }
   }
  },
  {
   "cell_type": "markdown",
   "source": [
    "###### Decision Trees"
   ],
   "metadata": {
    "collapsed": false
   }
  },
  {
   "cell_type": "code",
   "execution_count": 2011,
   "outputs": [],
   "source": [
    "decision_tree = DecisionTreeClassifier()\n",
    "decision_tree.fit(x_train, y_train)\n",
    "y_pred_decision_tree = decision_tree.predict(x_test)"
   ],
   "metadata": {
    "collapsed": false,
    "pycharm": {
     "name": "#%%\n"
    }
   }
  },
  {
   "cell_type": "code",
   "execution_count": 2012,
   "outputs": [
    {
     "name": "stdout",
     "output_type": "stream",
     "text": [
      "              precision    recall  f1-score   support\n",
      "\n",
      "         bad       0.72      0.64      0.68       297\n",
      "        good       0.83      0.88      0.85       601\n",
      "\n",
      "    accuracy                           0.80       898\n",
      "   macro avg       0.78      0.76      0.77       898\n",
      "weighted avg       0.79      0.80      0.80       898\n",
      "\n"
     ]
    }
   ],
   "source": [
    "decision_tree_report = classification_report(y_test, y_pred_decision_tree, output_dict=True)\n",
    "print(classification_report(y_test, y_pred_decision_tree))"
   ],
   "metadata": {
    "collapsed": false,
    "pycharm": {
     "name": "#%%\n"
    }
   }
  },
  {
   "cell_type": "code",
   "execution_count": 2013,
   "outputs": [
    {
     "data": {
      "text/plain": "<AxesSubplot:>"
     },
     "execution_count": 2013,
     "metadata": {},
     "output_type": "execute_result"
    },
    {
     "data": {
      "text/plain": "<Figure size 432x288 with 2 Axes>",
      "image/png": "[encoded data removed]"
     },
     "metadata": {
      "needs_background": "light"
     },
     "output_type": "display_data"
    }
   ],
   "source": [
    "sns.heatmap(pd.DataFrame(decision_tree_report).iloc[:-1, :].T, annot=True)"
   ],
   "metadata": {
    "collapsed": false,
    "pycharm": {
     "name": "#%%\n"
    }
   }
  },
  {
   "cell_type": "code",
   "execution_count": 2014,
   "outputs": [
    {
     "data": {
      "text/plain": "<Figure size 432x288 with 2 Axes>",
      "image/png": "[encoded data removed]"
     },
     "metadata": {
      "needs_background": "light"
     },
     "output_type": "display_data"
    }
   ],
   "source": [
    "cm = confusion_matrix(y_test, y_pred_decision_tree, labels=qualities_labels)\n",
    "disp = ConfusionMatrixDisplay(confusion_matrix=cm, display_labels=qualities_labels)\n",
    "disp.plot()\n",
    "plt.show()"
   ],
   "metadata": {
    "collapsed": false,
    "pycharm": {
     "name": "#%%\n"
    }
   }
  },
  {
   "cell_type": "markdown",
   "source": [
    "###### Multi-layer perceptron"
   ],
   "metadata": {
    "collapsed": false
   }
  },
  {
   "cell_type": "code",
   "execution_count": 2015,
   "outputs": [],
   "source": [
    "mlp_classifier = MLPClassifier(max_iter=1000)\n",
    "mlp_classifier.fit(x_train, y_train)\n",
    "y_pred_mlp = mlp_classifier.predict(x_test)"
   ],
   "metadata": {
    "collapsed": false,
    "pycharm": {
     "name": "#%%\n"
    }
   }
  },
  {
   "cell_type": "code",
   "execution_count": 2016,
   "outputs": [
    {
     "name": "stdout",
     "output_type": "stream",
     "text": [
      "              precision    recall  f1-score   support\n",
      "\n",
      "         bad       0.67      0.51      0.58       297\n",
      "        good       0.78      0.88      0.83       601\n",
      "\n",
      "    accuracy                           0.76       898\n",
      "   macro avg       0.73      0.69      0.70       898\n",
      "weighted avg       0.75      0.76      0.75       898\n",
      "\n"
     ]
    }
   ],
   "source": [
    "mlp_report = classification_report(y_test, y_pred_mlp, output_dict=True)\n",
    "print(classification_report(y_test, y_pred_mlp))"
   ],
   "metadata": {
    "collapsed": false,
    "pycharm": {
     "name": "#%%\n"
    }
   }
  },
  {
   "cell_type": "code",
   "execution_count": 2017,
   "outputs": [
    {
     "data": {
      "text/plain": "<AxesSubplot:>"
     },
     "execution_count": 2017,
     "metadata": {},
     "output_type": "execute_result"
    },
    {
     "data": {
      "text/plain": "<Figure size 432x288 with 2 Axes>",
      "image/png": "[encoded data removed]"
     },
     "metadata": {
      "needs_background": "light"
     },
     "output_type": "display_data"
    }
   ],
   "source": [
    "sns.heatmap(pd.DataFrame(mlp_report).iloc[:-1, :].T, annot=True)"
   ],
   "metadata": {
    "collapsed": false,
    "pycharm": {
     "name": "#%%\n"
    }
   }
  },
  {
   "cell_type": "code",
   "execution_count": 2018,
   "outputs": [
    {
     "data": {
      "text/plain": "<Figure size 432x288 with 2 Axes>",
      "image/png": "[encoded data removed]"
     },
     "metadata": {
      "needs_background": "light"
     },
     "output_type": "display_data"
    }
   ],
   "source": [
    "cm = confusion_matrix(y_test, y_pred_mlp, labels=qualities_labels)\n",
    "disp = ConfusionMatrixDisplay(confusion_matrix=cm, display_labels=qualities_labels)\n",
    "disp.plot()\n",
    "plt.show()"
   ],
   "metadata": {
    "collapsed": false,
    "pycharm": {
     "name": "#%%\n"
    }
   }
  },
  {
   "cell_type": "markdown",
   "source": [
    "###### k-NN"
   ],
   "metadata": {
    "collapsed": false
   }
  },
  {
   "cell_type": "code",
   "execution_count": 2019,
   "outputs": [],
   "source": [
    "knn = KNeighborsClassifier()\n",
    "knn.fit(x_train, y_train)\n",
    "y_pred_knn = knn.predict(x_test)"
   ],
   "metadata": {
    "collapsed": false,
    "pycharm": {
     "name": "#%%\n"
    }
   }
  },
  {
   "cell_type": "code",
   "execution_count": 2020,
   "outputs": [
    {
     "name": "stdout",
     "output_type": "stream",
     "text": [
      "              precision    recall  f1-score   support\n",
      "\n",
      "         bad       0.69      0.56      0.62       297\n",
      "        good       0.80      0.87      0.84       601\n",
      "\n",
      "    accuracy                           0.77       898\n",
      "   macro avg       0.74      0.72      0.73       898\n",
      "weighted avg       0.76      0.77      0.76       898\n",
      "\n"
     ]
    }
   ],
   "source": [
    "knn_report = classification_report(y_test, y_pred_knn, output_dict=True)\n",
    "print(classification_report(y_test, y_pred_knn))"
   ],
   "metadata": {
    "collapsed": false,
    "pycharm": {
     "name": "#%%\n"
    }
   }
  },
  {
   "cell_type": "code",
   "execution_count": 2021,
   "outputs": [
    {
     "data": {
      "text/plain": "<AxesSubplot:>"
     },
     "execution_count": 2021,
     "metadata": {},
     "output_type": "execute_result"
    },
    {
     "data": {
      "text/plain": "<Figure size 432x288 with 2 Axes>",
      "image/png": "[encoded data removed]"
     },
     "metadata": {
      "needs_background": "light"
     },
     "output_type": "display_data"
    }
   ],
   "source": [
    "sns.heatmap(pd.DataFrame(knn_report).iloc[:-1, :].T, annot=True)"
   ],
   "metadata": {
    "collapsed": false,
    "pycharm": {
     "name": "#%%\n"
    }
   }
  },
  {
   "cell_type": "code",
   "execution_count": 2022,
   "outputs": [
    {
     "data": {
      "text/plain": "<Figure size 432x288 with 2 Axes>",
      "image/png": "[encoded data removed]"
     },
     "metadata": {
      "needs_background": "light"
     },
     "output_type": "display_data"
    }
   ],
   "source": [
    "cm = confusion_matrix(y_test, y_pred_knn, labels=qualities_labels)\n",
    "disp = ConfusionMatrixDisplay(confusion_matrix=cm, display_labels=qualities_labels)\n",
    "disp.plot()\n",
    "plt.show()"
   ],
   "metadata": {
    "collapsed": false,
    "pycharm": {
     "name": "#%%\n"
    }
   }
  }
 ],
 "metadata": {
  "kernelspec": {
   "display_name": "Python 3",
   "language": "python",
   "name": "python3"
  },
  "language_info": {
   "codemirror_mode": {
    "name": "ipython",
    "version": 2
   },
   "file_extension": ".py",
   "mimetype": "text/x-python",
   "name": "python",
   "nbconvert_exporter": "python",
   "pygments_lexer": "ipython2",
   "version": "2.7.6"
  }
 },
 "nbformat": 4,
 "nbformat_minor": 0
}