{
 "cells": [
  {
   "cell_type": "markdown",
   "source": [
    "## Introduction to Machine Learning\n",
    "\n",
    "### Supervised Learning Algorithms\n",
    "* Decision Trees\n",
    "* Multi-layer perceptron\n",
    "* k-NN\n",
    "\n",
    "#### Final Project - wine quality classification problem"
   ],
   "metadata": {
    "collapsed": false
   }
  },
  {
   "cell_type": "code",
   "execution_count": 1437,
   "metadata": {
    "collapsed": true,
    "pycharm": {
     "name": "#%%\n"
    }
   },
   "outputs": [],
   "source": [
    "# Importing the libraries\n",
    "# generic\n",
    "import pandas as pd\n",
    "import numpy as np\n",
    "import matplotlib.pyplot as plt\n",
    "import seaborn as sns\n",
    "# preprocessing\n",
    "from sklearn import preprocessing\n",
    "from sklearn.model_selection import train_test_split\n",
    "from scipy.stats import zscore\n",
    "# models\n",
    "from sklearn.tree import DecisionTreeClassifier\n",
    "from sklearn.neural_network import MLPClassifier\n",
    "from sklearn.neighbors import KNeighborsClassifier\n",
    "# metrics\n",
    "from sklearn.metrics import classification_report\n",
    "from sklearn.metrics import confusion_matrix, ConfusionMatrixDisplay"
   ]
  },
  {
   "cell_type": "code",
   "execution_count": 1438,
   "outputs": [],
   "source": [
    "# Utilities\n",
    "def data_scaler(data):\n",
    "    scaler = preprocessing.MinMaxScaler()\n",
    "    data = scaler.fit_transform(data)\n",
    "    return data\n",
    "def quality_labeller(data, bins=(2.9,5.9,8), labels=None):\n",
    "    if labels is None:\n",
    "        labels = ['bad', 'good']\n",
    "    df_quality = pd.cut(df_red['quality'],\n",
    "                           bins = bins,\n",
    "                           labels = labels)\n",
    "    data.loc[:,'quality_label'] = df_quality\n",
    "    return data\n",
    "def delete_radomly_x(data, x=0.1):\n",
    "    # get dimensions of df\n",
    "    nrows, ncols = data.shape\n",
    "\n",
    "    volume = nrows * ncols                    # total number of entries in data\n",
    "    volume_to_be_nan = int(volume * x)      # number of entries to turn to NaN (10 %)\n",
    "\n",
    "    # randomly generate index locations for the new NaNs\n",
    "    indices = np.random.randint(volume, size=volume_to_be_nan)\n",
    "    row_indices = indices % nrows\n",
    "    col_indices = (indices / nrows).astype(int)\n",
    "\n",
    "    # assign NaN to each of the indices in data\n",
    "    for ri, ci in zip(row_indices, col_indices):\n",
    "      data.iloc[ri, ci] = np.nan"
   ],
   "metadata": {
    "collapsed": false,
    "pycharm": {
     "name": "#%%\n"
    }
   }
  },
  {
   "cell_type": "markdown",
   "source": [
    "##### Read Red Wine"
   ],
   "metadata": {
    "collapsed": false,
    "pycharm": {
     "name": "#%% md\n"
    }
   }
  },
  {
   "cell_type": "code",
   "execution_count": 1439,
   "outputs": [
    {
     "data": {
      "text/plain": "   fixed acidity  volatile acidity  citric acid  residual sugar  chlorides  \\\n0            7.4              0.70         0.00             1.9      0.076   \n1            7.8              0.88         0.00             2.6      0.098   \n2            7.8              0.76         0.04             2.3      0.092   \n3           11.2              0.28         0.56             1.9      0.075   \n4            7.4              0.70         0.00             1.9      0.076   \n\n   free sulfur dioxide  total sulfur dioxide  density    pH  sulphates  \\\n0                 11.0                  34.0   0.9978  3.51       0.56   \n1                 25.0                  67.0   0.9968  3.20       0.68   \n2                 15.0                  54.0   0.9970  3.26       0.65   \n3                 17.0                  60.0   0.9980  3.16       0.58   \n4                 11.0                  34.0   0.9978  3.51       0.56   \n\n   alcohol  quality  \n0      9.4        5  \n1      9.8        5  \n2      9.8        5  \n3      9.8        6  \n4      9.4        5  ",
      "text/html": "<div>\n<style scoped>\n    .dataframe tbody tr th:only-of-type {\n        vertical-align: middle;\n    }\n\n    .dataframe tbody tr th {\n        vertical-align: top;\n    }\n\n    .dataframe thead th {\n        text-align: right;\n    }\n</style>\n<table border=\"1\" class=\"dataframe\">\n  <thead>\n    <tr style=\"text-align: right;\">\n      <th></th>\n      <th>fixed acidity</th>\n      <th>volatile acidity</th>\n      <th>citric acid</th>\n      <th>residual sugar</th>\n      <th>chlorides</th>\n      <th>free sulfur dioxide</th>\n      <th>total sulfur dioxide</th>\n      <th>density</th>\n      <th>pH</th>\n      <th>sulphates</th>\n      <th>alcohol</th>\n      <th>quality</th>\n    </tr>\n  </thead>\n  <tbody>\n    <tr>\n      <th>0</th>\n      <td>7.4</td>\n      <td>0.70</td>\n      <td>0.00</td>\n      <td>1.9</td>\n      <td>0.076</td>\n      <td>11.0</td>\n      <td>34.0</td>\n      <td>0.9978</td>\n      <td>3.51</td>\n      <td>0.56</td>\n      <td>9.4</td>\n      <td>5</td>\n    </tr>\n    <tr>\n      <th>1</th>\n      <td>7.8</td>\n      <td>0.88</td>\n      <td>0.00</td>\n      <td>2.6</td>\n      <td>0.098</td>\n      <td>25.0</td>\n      <td>67.0</td>\n      <td>0.9968</td>\n      <td>3.20</td>\n      <td>0.68</td>\n      <td>9.8</td>\n      <td>5</td>\n    </tr>\n    <tr>\n      <th>2</th>\n      <td>7.8</td>\n      <td>0.76</td>\n      <td>0.04</td>\n      <td>2.3</td>\n      <td>0.092</td>\n      <td>15.0</td>\n      <td>54.0</td>\n      <td>0.9970</td>\n      <td>3.26</td>\n      <td>0.65</td>\n      <td>9.8</td>\n      <td>5</td>\n    </tr>\n    <tr>\n      <th>3</th>\n      <td>11.2</td>\n      <td>0.28</td>\n      <td>0.56</td>\n      <td>1.9</td>\n      <td>0.075</td>\n      <td>17.0</td>\n      <td>60.0</td>\n      <td>0.9980</td>\n      <td>3.16</td>\n      <td>0.58</td>\n      <td>9.8</td>\n      <td>6</td>\n    </tr>\n    <tr>\n      <th>4</th>\n      <td>7.4</td>\n      <td>0.70</td>\n      <td>0.00</td>\n      <td>1.9</td>\n      <td>0.076</td>\n      <td>11.0</td>\n      <td>34.0</td>\n      <td>0.9978</td>\n      <td>3.51</td>\n      <td>0.56</td>\n      <td>9.4</td>\n      <td>5</td>\n    </tr>\n  </tbody>\n</table>\n</div>"
     },
     "execution_count": 1439,
     "metadata": {},
     "output_type": "execute_result"
    }
   ],
   "source": [
    "df_red = pd.read_csv(\"winequality-red.csv\")\n",
    "df_red.head()"
   ],
   "metadata": {
    "collapsed": false,
    "pycharm": {
     "name": "#%%\n"
    }
   }
  },
  {
   "cell_type": "markdown",
   "source": [
    "###### Analysing"
   ],
   "metadata": {
    "collapsed": false
   }
  },
  {
   "cell_type": "code",
   "execution_count": 1440,
   "outputs": [
    {
     "name": "stdout",
     "output_type": "stream",
     "text": [
      "<class 'pandas.core.frame.DataFrame'>\n",
      "RangeIndex: 1599 entries, 0 to 1598\n",
      "Data columns (total 12 columns):\n",
      " #   Column                Non-Null Count  Dtype  \n",
      "---  ------                --------------  -----  \n",
      " 0   fixed acidity         1599 non-null   float64\n",
      " 1   volatile acidity      1599 non-null   float64\n",
      " 2   citric acid           1599 non-null   float64\n",
      " 3   residual sugar        1599 non-null   float64\n",
      " 4   chlorides             1599 non-null   float64\n",
      " 5   free sulfur dioxide   1599 non-null   float64\n",
      " 6   total sulfur dioxide  1599 non-null   float64\n",
      " 7   density               1599 non-null   float64\n",
      " 8   pH                    1599 non-null   float64\n",
      " 9   sulphates             1599 non-null   float64\n",
      " 10  alcohol               1599 non-null   float64\n",
      " 11  quality               1599 non-null   int64  \n",
      "dtypes: float64(11), int64(1)\n",
      "memory usage: 150.0 KB\n"
     ]
    }
   ],
   "source": [
    "df_red.info()"
   ],
   "metadata": {
    "collapsed": false,
    "pycharm": {
     "name": "#%%\n"
    }
   }
  },
  {
   "cell_type": "code",
   "execution_count": 1441,
   "outputs": [
    {
     "data": {
      "text/plain": "       fixed acidity  volatile acidity  citric acid  residual sugar  \\\ncount    1599.000000       1599.000000  1599.000000     1599.000000   \nmean        8.319637          0.527821     0.270976        2.538806   \nstd         1.741096          0.179060     0.194801        1.409928   \nmin         4.600000          0.120000     0.000000        0.900000   \n25%         7.100000          0.390000     0.090000        1.900000   \n50%         7.900000          0.520000     0.260000        2.200000   \n75%         9.200000          0.640000     0.420000        2.600000   \nmax        15.900000          1.580000     1.000000       15.500000   \n\n         chlorides  free sulfur dioxide  total sulfur dioxide      density  \\\ncount  1599.000000          1599.000000           1599.000000  1599.000000   \nmean      0.087467            15.874922             46.467792     0.996747   \nstd       0.047065            10.460157             32.895324     0.001887   \nmin       0.012000             1.000000              6.000000     0.990070   \n25%       0.070000             7.000000             22.000000     0.995600   \n50%       0.079000            14.000000             38.000000     0.996750   \n75%       0.090000            21.000000             62.000000     0.997835   \nmax       0.611000            72.000000            289.000000     1.003690   \n\n                pH    sulphates      alcohol      quality  \ncount  1599.000000  1599.000000  1599.000000  1599.000000  \nmean      3.311113     0.658149    10.422983     5.636023  \nstd       0.154386     0.169507     1.065668     0.807569  \nmin       2.740000     0.330000     8.400000     3.000000  \n25%       3.210000     0.550000     9.500000     5.000000  \n50%       3.310000     0.620000    10.200000     6.000000  \n75%       3.400000     0.730000    11.100000     6.000000  \nmax       4.010000     2.000000    14.900000     8.000000  ",
      "text/html": "<div>\n<style scoped>\n    .dataframe tbody tr th:only-of-type {\n        vertical-align: middle;\n    }\n\n    .dataframe tbody tr th {\n        vertical-align: top;\n    }\n\n    .dataframe thead th {\n        text-align: right;\n    }\n</style>\n<table border=\"1\" class=\"dataframe\">\n  <thead>\n    <tr style=\"text-align: right;\">\n      <th></th>\n      <th>fixed acidity</th>\n      <th>volatile acidity</th>\n      <th>citric acid</th>\n      <th>residual sugar</th>\n      <th>chlorides</th>\n      <th>free sulfur dioxide</th>\n      <th>total sulfur dioxide</th>\n      <th>density</th>\n      <th>pH</th>\n      <th>sulphates</th>\n      <th>alcohol</th>\n      <th>quality</th>\n    </tr>\n  </thead>\n  <tbody>\n    <tr>\n      <th>count</th>\n      <td>1599.000000</td>\n      <td>1599.000000</td>\n      <td>1599.000000</td>\n      <td>1599.000000</td>\n      <td>1599.000000</td>\n      <td>1599.000000</td>\n      <td>1599.000000</td>\n      <td>1599.000000</td>\n      <td>1599.000000</td>\n      <td>1599.000000</td>\n      <td>1599.000000</td>\n      <td>1599.000000</td>\n    </tr>\n    <tr>\n      <th>mean</th>\n      <td>8.319637</td>\n      <td>0.527821</td>\n      <td>0.270976</td>\n      <td>2.538806</td>\n      <td>0.087467</td>\n      <td>15.874922</td>\n      <td>46.467792</td>\n      <td>0.996747</td>\n      <td>3.311113</td>\n      <td>0.658149</td>\n      <td>10.422983</td>\n      <td>5.636023</td>\n    </tr>\n    <tr>\n      <th>std</th>\n      <td>1.741096</td>\n      <td>0.179060</td>\n      <td>0.194801</td>\n      <td>1.409928</td>\n      <td>0.047065</td>\n      <td>10.460157</td>\n      <td>32.895324</td>\n      <td>0.001887</td>\n      <td>0.154386</td>\n      <td>0.169507</td>\n      <td>1.065668</td>\n      <td>0.807569</td>\n    </tr>\n    <tr>\n      <th>min</th>\n      <td>4.600000</td>\n      <td>0.120000</td>\n      <td>0.000000</td>\n      <td>0.900000</td>\n      <td>0.012000</td>\n      <td>1.000000</td>\n      <td>6.000000</td>\n      <td>0.990070</td>\n      <td>2.740000</td>\n      <td>0.330000</td>\n      <td>8.400000</td>\n      <td>3.000000</td>\n    </tr>\n    <tr>\n      <th>25%</th>\n      <td>7.100000</td>\n      <td>0.390000</td>\n      <td>0.090000</td>\n      <td>1.900000</td>\n      <td>0.070000</td>\n      <td>7.000000</td>\n      <td>22.000000</td>\n      <td>0.995600</td>\n      <td>3.210000</td>\n      <td>0.550000</td>\n      <td>9.500000</td>\n      <td>5.000000</td>\n    </tr>\n    <tr>\n      <th>50%</th>\n      <td>7.900000</td>\n      <td>0.520000</td>\n      <td>0.260000</td>\n      <td>2.200000</td>\n      <td>0.079000</td>\n      <td>14.000000</td>\n      <td>38.000000</td>\n      <td>0.996750</td>\n      <td>3.310000</td>\n      <td>0.620000</td>\n      <td>10.200000</td>\n      <td>6.000000</td>\n    </tr>\n    <tr>\n      <th>75%</th>\n      <td>9.200000</td>\n      <td>0.640000</td>\n      <td>0.420000</td>\n      <td>2.600000</td>\n      <td>0.090000</td>\n      <td>21.000000</td>\n      <td>62.000000</td>\n      <td>0.997835</td>\n      <td>3.400000</td>\n      <td>0.730000</td>\n      <td>11.100000</td>\n      <td>6.000000</td>\n    </tr>\n    <tr>\n      <th>max</th>\n      <td>15.900000</td>\n      <td>1.580000</td>\n      <td>1.000000</td>\n      <td>15.500000</td>\n      <td>0.611000</td>\n      <td>72.000000</td>\n      <td>289.000000</td>\n      <td>1.003690</td>\n      <td>4.010000</td>\n      <td>2.000000</td>\n      <td>14.900000</td>\n      <td>8.000000</td>\n    </tr>\n  </tbody>\n</table>\n</div>"
     },
     "execution_count": 1441,
     "metadata": {},
     "output_type": "execute_result"
    }
   ],
   "source": [
    "df_red.describe()"
   ],
   "metadata": {
    "collapsed": false,
    "pycharm": {
     "name": "#%%\n"
    }
   }
  },
  {
   "cell_type": "markdown",
   "source": [
    "###### Delete data 10 and 20%"
   ],
   "metadata": {
    "collapsed": false,
    "pycharm": {
     "name": "#%% md\n"
    }
   },
   "execution_count": 452
  },
  {
   "cell_type": "code",
   "execution_count": 1442,
   "outputs": [
    {
     "data": {
      "text/plain": "fixed acidity           148\nvolatile acidity        161\ncitric acid             153\nresidual sugar          161\nchlorides               140\nfree sulfur dioxide     158\ntotal sulfur dioxide    154\ndensity                 146\npH                      126\nsulphates               149\nalcohol                 167\nquality                 151\ndtype: int64"
     },
     "execution_count": 1442,
     "metadata": {},
     "output_type": "execute_result"
    }
   ],
   "source": [
    "delete_radomly_x(df_red)\n",
    "df_red.isna().sum()"
   ],
   "metadata": {
    "collapsed": false,
    "pycharm": {
     "name": "#%%\n"
    }
   }
  },
  {
   "cell_type": "markdown",
   "source": [
    "* strategy 1 - Deleting Rows"
   ],
   "metadata": {
    "collapsed": false
   }
  },
  {
   "cell_type": "code",
   "execution_count": 1443,
   "outputs": [
    {
     "data": {
      "text/plain": "fixed acidity           0\nvolatile acidity        0\ncitric acid             0\nresidual sugar          0\nchlorides               0\nfree sulfur dioxide     0\ntotal sulfur dioxide    0\ndensity                 0\npH                      0\nsulphates               0\nalcohol                 0\nquality                 0\ndtype: int64"
     },
     "execution_count": 1443,
     "metadata": {},
     "output_type": "execute_result"
    }
   ],
   "source": [
    "df_red.dropna(inplace=True)\n",
    "df_red.isna().sum()"
   ],
   "metadata": {
    "collapsed": false,
    "pycharm": {
     "name": "#%%\n"
    }
   }
  },
  {
   "cell_type": "code",
   "execution_count": 1444,
   "outputs": [
    {
     "name": "stdout",
     "output_type": "stream",
     "text": [
      "<class 'pandas.core.frame.DataFrame'>\n",
      "Int64Index: 460 entries, 0 to 1596\n",
      "Data columns (total 12 columns):\n",
      " #   Column                Non-Null Count  Dtype  \n",
      "---  ------                --------------  -----  \n",
      " 0   fixed acidity         460 non-null    float64\n",
      " 1   volatile acidity      460 non-null    float64\n",
      " 2   citric acid           460 non-null    float64\n",
      " 3   residual sugar        460 non-null    float64\n",
      " 4   chlorides             460 non-null    float64\n",
      " 5   free sulfur dioxide   460 non-null    float64\n",
      " 6   total sulfur dioxide  460 non-null    float64\n",
      " 7   density               460 non-null    float64\n",
      " 8   pH                    460 non-null    float64\n",
      " 9   sulphates             460 non-null    float64\n",
      " 10  alcohol               460 non-null    float64\n",
      " 11  quality               460 non-null    float64\n",
      "dtypes: float64(12)\n",
      "memory usage: 46.7 KB\n"
     ]
    }
   ],
   "source": [
    "df_red.info()"
   ],
   "metadata": {
    "collapsed": false,
    "pycharm": {
     "name": "#%%\n"
    }
   }
  },
  {
   "cell_type": "markdown",
   "source": [
    "* strategy 2 - Replacing With Mean"
   ],
   "metadata": {
    "collapsed": false
   }
  },
  {
   "cell_type": "code",
   "execution_count": 1445,
   "outputs": [
    {
     "data": {
      "text/plain": "fixed acidity           280\nvolatile acidity        278\ncitric acid             286\nresidual sugar          277\nchlorides               296\nfree sulfur dioxide     288\ntotal sulfur dioxide    311\ndensity                 283\npH                      304\nsulphates               314\nalcohol                 275\nquality                 291\ndtype: int64"
     },
     "execution_count": 1445,
     "metadata": {},
     "output_type": "execute_result"
    }
   ],
   "source": [
    "# restore data\n",
    "df_red = pd.read_csv(\"winequality-red.csv\")\n",
    "# delete 20%\n",
    "delete_radomly_x(df_red, 0.2)\n",
    "df_red.isna().sum()"
   ],
   "metadata": {
    "collapsed": false,
    "pycharm": {
     "name": "#%%\n"
    }
   }
  },
  {
   "cell_type": "code",
   "execution_count": 1446,
   "outputs": [
    {
     "data": {
      "text/plain": "fixed acidity           0\nvolatile acidity        0\ncitric acid             0\nresidual sugar          0\nchlorides               0\nfree sulfur dioxide     0\ntotal sulfur dioxide    0\ndensity                 0\npH                      0\nsulphates               0\nalcohol                 0\nquality                 0\ndtype: int64"
     },
     "execution_count": 1446,
     "metadata": {},
     "output_type": "execute_result"
    }
   ],
   "source": [
    "for column in df_red.columns:\n",
    "    mean = df_red[column].mean()\n",
    "    df_red[column] = df_red[column].replace(np.NaN, mean)\n",
    "df_red.isna().sum()"
   ],
   "metadata": {
    "collapsed": false,
    "pycharm": {
     "name": "#%%\n"
    }
   }
  },
  {
   "cell_type": "code",
   "execution_count": 1447,
   "outputs": [
    {
     "name": "stdout",
     "output_type": "stream",
     "text": [
      "<class 'pandas.core.frame.DataFrame'>\n",
      "RangeIndex: 1599 entries, 0 to 1598\n",
      "Data columns (total 12 columns):\n",
      " #   Column                Non-Null Count  Dtype  \n",
      "---  ------                --------------  -----  \n",
      " 0   fixed acidity         1599 non-null   float64\n",
      " 1   volatile acidity      1599 non-null   float64\n",
      " 2   citric acid           1599 non-null   float64\n",
      " 3   residual sugar        1599 non-null   float64\n",
      " 4   chlorides             1599 non-null   float64\n",
      " 5   free sulfur dioxide   1599 non-null   float64\n",
      " 6   total sulfur dioxide  1599 non-null   float64\n",
      " 7   density               1599 non-null   float64\n",
      " 8   pH                    1599 non-null   float64\n",
      " 9   sulphates             1599 non-null   float64\n",
      " 10  alcohol               1599 non-null   float64\n",
      " 11  quality               1599 non-null   float64\n",
      "dtypes: float64(12)\n",
      "memory usage: 150.0 KB\n"
     ]
    }
   ],
   "source": [
    "df_red.info()"
   ],
   "metadata": {
    "collapsed": false,
    "pycharm": {
     "name": "#%%\n"
    }
   }
  },
  {
   "cell_type": "code",
   "execution_count": 1448,
   "outputs": [
    {
     "data": {
      "text/plain": "<AxesSubplot:>"
     },
     "execution_count": 1448,
     "metadata": {},
     "output_type": "execute_result"
    },
    {
     "data": {
      "text/plain": "<Figure size 432x288 with 1 Axes>",
      "image/png": "[encoded data removed]"
     },
     "metadata": {
      "needs_background": "light"
     },
     "output_type": "display_data"
    }
   ],
   "source": [
    "# restore data\n",
    "df_red = pd.read_csv(\"winequality-red.csv\")\n",
    "# normalize to detect outliers\n",
    "min_max_scaler = preprocessing.MinMaxScaler()\n",
    "df_red_scaled = pd.DataFrame(data_scaler(df_red.values))\n",
    "df_red_scaled.boxplot()"
   ],
   "metadata": {
    "collapsed": false,
    "pycharm": {
     "name": "#%%\n"
    }
   }
  },
  {
   "cell_type": "code",
   "execution_count": 1449,
   "outputs": [
    {
     "name": "stdout",
     "output_type": "stream",
     "text": [
      "0: fixed acidity,1: volatile acidity,2: citric acid,3: residual sugar,4: chlorides,5: free sulfur dioxide,6: total sulfur dioxide,7: density,8: pH,9: sulphates,10: alcohol,11: quality,"
     ]
    }
   ],
   "source": [
    "#columns\n",
    "i = 0\n",
    "for column in df_red.columns:\n",
    "    print(f'{i}: {column}',end=',')\n",
    "    i += 1"
   ],
   "metadata": {
    "collapsed": false,
    "pycharm": {
     "name": "#%%\n"
    }
   }
  },
  {
   "cell_type": "markdown",
   "source": [
    "* we don't have missing values (null cases)\n",
    "* there are some outliers that means data < 25th and > 75th"
   ],
   "metadata": {
    "collapsed": false,
    "pycharm": {
     "name": "#%% md\n"
    }
   },
   "outputs": [
    {
     "ename": "SyntaxError",
     "evalue": "invalid syntax (Temp/ipykernel_2604/2507973980.py, line 1)",
     "output_type": "error",
     "traceback": [
      "\u001B[1;36m  File \u001B[1;32m\"C:\\Users\\JM_A_\\AppData\\Local\\Temp/ipykernel_2604/2507973980.py\"\u001B[1;36m, line \u001B[1;32m1\u001B[0m\n\u001B[1;33m    * data cleaning is not needed here\u001B[0m\n\u001B[1;37m           ^\u001B[0m\n\u001B[1;31mSyntaxError\u001B[0m\u001B[1;31m:\u001B[0m invalid syntax\n"
     ]
    }
   ],
   "execution_count": 33
  },
  {
   "cell_type": "markdown",
   "source": [
    "###### Data cleaning"
   ],
   "metadata": {
    "collapsed": false,
    "pycharm": {
     "name": "#%% md\n"
    }
   }
  },
  {
   "cell_type": "markdown",
   "source": [
    "Z-score (also called a standard score) gives you an idea of how far from the mean a data point is. But more technically it’s a measure of how many standard deviations below or above the population mean a raw score is.\n",
    "\n",
    "A z-score can be placed on a normal distribution curve. Z-scores range from -3 standard deviations (which would fall to the far left of the normal distribution curve) up to +3 standard deviations (which would fall to the far right of the normal distribution curve). In order to use a z-score, you need to know the mean μ and also the population standard deviation σ."
   ],
   "metadata": {
    "collapsed": false
   }
  },
  {
   "cell_type": "code",
   "execution_count": 1450,
   "outputs": [
    {
     "data": {
      "text/plain": "(1451, 12)"
     },
     "execution_count": 1450,
     "metadata": {},
     "output_type": "execute_result"
    }
   ],
   "source": [
    "# remove outliers\n",
    "z_scores = zscore(df_red)\n",
    "abs_z_scores = np.abs(z_scores)\n",
    "filtered_entries = (abs_z_scores < 3).all(axis=1)\n",
    "df_red_new = df_red[filtered_entries]\n",
    "df_red_new.shape"
   ],
   "metadata": {
    "collapsed": false,
    "pycharm": {
     "name": "#%%\n"
    }
   }
  },
  {
   "cell_type": "markdown",
   "source": [
    "###### Data normalization"
   ],
   "metadata": {
    "collapsed": false
   }
  },
  {
   "cell_type": "code",
   "execution_count": 1451,
   "outputs": [
    {
     "data": {
      "text/plain": "      fixed acidity  volatile acidity  citric acid  residual sugar  chlorides  \\\n0          0.282353          0.630435     0.000000        0.127273   0.202128   \n1          0.329412          0.826087     0.000000        0.254545   0.319149   \n2          0.329412          0.695652     0.050633        0.200000   0.287234   \n3          0.729412          0.173913     0.708861        0.127273   0.196809   \n4          0.282353          0.630435     0.000000        0.127273   0.202128   \n...             ...               ...          ...             ...        ...   \n1446       0.141176          0.521739     0.101266        0.145455   0.276596   \n1447       0.105882          0.467391     0.126582        0.181818   0.127660   \n1448       0.152941          0.423913     0.164557        0.200000   0.202128   \n1449       0.105882          0.570652     0.151899        0.145455   0.196809   \n1450       0.117647          0.206522     0.594937        0.436364   0.154255   \n\n      free sulfur dioxide  total sulfur dioxide   density        pH  \\\n0                0.217391              0.201439  0.588785  0.724138   \n1                0.521739              0.438849  0.495327  0.367816   \n2                0.304348              0.345324  0.514019  0.436782   \n3                0.347826              0.388489  0.607477  0.321839   \n4                0.217391              0.201439  0.588785  0.724138   \n...                   ...                   ...       ...       ...   \n1446             0.673913              0.273381  0.317757  0.655172   \n1447             0.826087              0.323741  0.338318  0.735632   \n1448             0.608696              0.244604  0.396262  0.620690   \n1449             0.673913              0.273381  0.371028  0.793103   \n1450             0.369565              0.258993  0.372897  0.586207   \n\n      sulphates   alcohol  \n0      0.277108  0.176471  \n1      0.421687  0.254902  \n2      0.385542  0.254902  \n3      0.301205  0.254902  \n4      0.277108  0.176471  \n...         ...       ...  \n1446   0.301205  0.392157  \n1447   0.518072  0.529412  \n1448   0.506024  0.490196  \n1449   0.457831  0.333333  \n1450   0.397590  0.490196  \n\n[1451 rows x 11 columns]",
      "text/html": "<div>\n<style scoped>\n    .dataframe tbody tr th:only-of-type {\n        vertical-align: middle;\n    }\n\n    .dataframe tbody tr th {\n        vertical-align: top;\n    }\n\n    .dataframe thead th {\n        text-align: right;\n    }\n</style>\n<table border=\"1\" class=\"dataframe\">\n  <thead>\n    <tr style=\"text-align: right;\">\n      <th></th>\n      <th>fixed acidity</th>\n      <th>volatile acidity</th>\n      <th>citric acid</th>\n      <th>residual sugar</th>\n      <th>chlorides</th>\n      <th>free sulfur dioxide</th>\n      <th>total sulfur dioxide</th>\n      <th>density</th>\n      <th>pH</th>\n      <th>sulphates</th>\n      <th>alcohol</th>\n    </tr>\n  </thead>\n  <tbody>\n    <tr>\n      <th>0</th>\n      <td>0.282353</td>\n      <td>0.630435</td>\n      <td>0.000000</td>\n      <td>0.127273</td>\n      <td>0.202128</td>\n      <td>0.217391</td>\n      <td>0.201439</td>\n      <td>0.588785</td>\n      <td>0.724138</td>\n      <td>0.277108</td>\n      <td>0.176471</td>\n    </tr>\n    <tr>\n      <th>1</th>\n      <td>0.329412</td>\n      <td>0.826087</td>\n      <td>0.000000</td>\n      <td>0.254545</td>\n      <td>0.319149</td>\n      <td>0.521739</td>\n      <td>0.438849</td>\n      <td>0.495327</td>\n      <td>0.367816</td>\n      <td>0.421687</td>\n      <td>0.254902</td>\n    </tr>\n    <tr>\n      <th>2</th>\n      <td>0.329412</td>\n      <td>0.695652</td>\n      <td>0.050633</td>\n      <td>0.200000</td>\n      <td>0.287234</td>\n      <td>0.304348</td>\n      <td>0.345324</td>\n      <td>0.514019</td>\n      <td>0.436782</td>\n      <td>0.385542</td>\n      <td>0.254902</td>\n    </tr>\n    <tr>\n      <th>3</th>\n      <td>0.729412</td>\n      <td>0.173913</td>\n      <td>0.708861</td>\n      <td>0.127273</td>\n      <td>0.196809</td>\n      <td>0.347826</td>\n      <td>0.388489</td>\n      <td>0.607477</td>\n      <td>0.321839</td>\n      <td>0.301205</td>\n      <td>0.254902</td>\n    </tr>\n    <tr>\n      <th>4</th>\n      <td>0.282353</td>\n      <td>0.630435</td>\n      <td>0.000000</td>\n      <td>0.127273</td>\n      <td>0.202128</td>\n      <td>0.217391</td>\n      <td>0.201439</td>\n      <td>0.588785</td>\n      <td>0.724138</td>\n      <td>0.277108</td>\n      <td>0.176471</td>\n    </tr>\n    <tr>\n      <th>...</th>\n      <td>...</td>\n      <td>...</td>\n      <td>...</td>\n      <td>...</td>\n      <td>...</td>\n      <td>...</td>\n      <td>...</td>\n      <td>...</td>\n      <td>...</td>\n      <td>...</td>\n      <td>...</td>\n    </tr>\n    <tr>\n      <th>1446</th>\n      <td>0.141176</td>\n      <td>0.521739</td>\n      <td>0.101266</td>\n      <td>0.145455</td>\n      <td>0.276596</td>\n      <td>0.673913</td>\n      <td>0.273381</td>\n      <td>0.317757</td>\n      <td>0.655172</td>\n      <td>0.301205</td>\n      <td>0.392157</td>\n    </tr>\n    <tr>\n      <th>1447</th>\n      <td>0.105882</td>\n      <td>0.467391</td>\n      <td>0.126582</td>\n      <td>0.181818</td>\n      <td>0.127660</td>\n      <td>0.826087</td>\n      <td>0.323741</td>\n      <td>0.338318</td>\n      <td>0.735632</td>\n      <td>0.518072</td>\n      <td>0.529412</td>\n    </tr>\n    <tr>\n      <th>1448</th>\n      <td>0.152941</td>\n      <td>0.423913</td>\n      <td>0.164557</td>\n      <td>0.200000</td>\n      <td>0.202128</td>\n      <td>0.608696</td>\n      <td>0.244604</td>\n      <td>0.396262</td>\n      <td>0.620690</td>\n      <td>0.506024</td>\n      <td>0.490196</td>\n    </tr>\n    <tr>\n      <th>1449</th>\n      <td>0.105882</td>\n      <td>0.570652</td>\n      <td>0.151899</td>\n      <td>0.145455</td>\n      <td>0.196809</td>\n      <td>0.673913</td>\n      <td>0.273381</td>\n      <td>0.371028</td>\n      <td>0.793103</td>\n      <td>0.457831</td>\n      <td>0.333333</td>\n    </tr>\n    <tr>\n      <th>1450</th>\n      <td>0.117647</td>\n      <td>0.206522</td>\n      <td>0.594937</td>\n      <td>0.436364</td>\n      <td>0.154255</td>\n      <td>0.369565</td>\n      <td>0.258993</td>\n      <td>0.372897</td>\n      <td>0.586207</td>\n      <td>0.397590</td>\n      <td>0.490196</td>\n    </tr>\n  </tbody>\n</table>\n<p>1451 rows × 11 columns</p>\n</div>"
     },
     "execution_count": 1451,
     "metadata": {},
     "output_type": "execute_result"
    }
   ],
   "source": [
    "x = df_red_new.iloc[:,:-1]\n",
    "y = df_red_new.iloc[:,-1]\n",
    "df_x = pd.DataFrame(data_scaler(x.values), columns=df_red.columns[:-1])\n",
    "df_x"
   ],
   "metadata": {
    "collapsed": false,
    "pycharm": {
     "name": "#%%\n"
    }
   }
  },
  {
   "cell_type": "code",
   "source": [
    "df_y = pd.DataFrame(y)\n",
    "# df_y"
   ],
   "metadata": {
    "collapsed": false,
    "pycharm": {
     "name": "#%%\n"
    }
   },
   "execution_count": 1452,
   "outputs": []
  },
  {
   "cell_type": "code",
   "execution_count": 1453,
   "outputs": [
    {
     "data": {
      "text/plain": "      quality quality_label\n0           5           bad\n1           5           bad\n2           5           bad\n3           6          good\n4           5           bad\n...       ...           ...\n1594        5           bad\n1595        6          good\n1596        6          good\n1597        5           bad\n1598        6          good\n\n[1451 rows x 2 columns]",
      "text/html": "<div>\n<style scoped>\n    .dataframe tbody tr th:only-of-type {\n        vertical-align: middle;\n    }\n\n    .dataframe tbody tr th {\n        vertical-align: top;\n    }\n\n    .dataframe thead th {\n        text-align: right;\n    }\n</style>\n<table border=\"1\" class=\"dataframe\">\n  <thead>\n    <tr style=\"text-align: right;\">\n      <th></th>\n      <th>quality</th>\n      <th>quality_label</th>\n    </tr>\n  </thead>\n  <tbody>\n    <tr>\n      <th>0</th>\n      <td>5</td>\n      <td>bad</td>\n    </tr>\n    <tr>\n      <th>1</th>\n      <td>5</td>\n      <td>bad</td>\n    </tr>\n    <tr>\n      <th>2</th>\n      <td>5</td>\n      <td>bad</td>\n    </tr>\n    <tr>\n      <th>3</th>\n      <td>6</td>\n      <td>good</td>\n    </tr>\n    <tr>\n      <th>4</th>\n      <td>5</td>\n      <td>bad</td>\n    </tr>\n    <tr>\n      <th>...</th>\n      <td>...</td>\n      <td>...</td>\n    </tr>\n    <tr>\n      <th>1594</th>\n      <td>5</td>\n      <td>bad</td>\n    </tr>\n    <tr>\n      <th>1595</th>\n      <td>6</td>\n      <td>good</td>\n    </tr>\n    <tr>\n      <th>1596</th>\n      <td>6</td>\n      <td>good</td>\n    </tr>\n    <tr>\n      <th>1597</th>\n      <td>5</td>\n      <td>bad</td>\n    </tr>\n    <tr>\n      <th>1598</th>\n      <td>6</td>\n      <td>good</td>\n    </tr>\n  </tbody>\n</table>\n<p>1451 rows × 2 columns</p>\n</div>"
     },
     "execution_count": 1453,
     "metadata": {},
     "output_type": "execute_result"
    }
   ],
   "source": [
    "qualities = ['quality', 'quality_label']\n",
    "df_y_s = quality_labeller(df_y)\n",
    "df_y = df_y_s.iloc[:,-1]\n",
    "df_y_s"
   ],
   "metadata": {
    "collapsed": false,
    "pycharm": {
     "name": "#%%\n"
    }
   }
  },
  {
   "cell_type": "markdown",
   "source": [
    "###### Splitting data"
   ],
   "metadata": {
    "collapsed": false
   }
  },
  {
   "cell_type": "code",
   "execution_count": 1454,
   "outputs": [],
   "source": [
    "x_train, x_test, y_train, y_test = train_test_split(df_x,df_y,test_size = 0.3,random_state = 0)"
   ],
   "metadata": {
    "collapsed": false,
    "pycharm": {
     "name": "#%%\n"
    }
   }
  },
  {
   "cell_type": "code",
   "execution_count": 1455,
   "outputs": [
    {
     "name": "stdout",
     "output_type": "stream",
     "text": [
      "Training set has 1015 samples\n",
      "Testing set has 436 samples\n"
     ]
    }
   ],
   "source": [
    "print(f'Training set has {x_train.shape[0]} samples')\n",
    "print(f'Testing set has {x_test.shape[0]} samples')"
   ],
   "metadata": {
    "collapsed": false,
    "pycharm": {
     "name": "#%%\n"
    }
   }
  },
  {
   "cell_type": "markdown",
   "source": [
    "###### Decision Trees"
   ],
   "metadata": {
    "collapsed": false,
    "pycharm": {
     "name": "#%% md\n"
    }
   }
  },
  {
   "cell_type": "code",
   "execution_count": 1456,
   "outputs": [],
   "source": [
    "decision_tree = DecisionTreeClassifier(random_state = 0)\n",
    "decision_tree.fit(x_train, y_train)\n",
    "y_pred_decision_tree = decision_tree.predict(x_test)"
   ],
   "metadata": {
    "collapsed": false,
    "pycharm": {
     "name": "#%%\n"
    }
   }
  },
  {
   "cell_type": "code",
   "execution_count": 1457,
   "outputs": [
    {
     "name": "stdout",
     "output_type": "stream",
     "text": [
      "              precision    recall  f1-score   support\n",
      "\n",
      "         bad       0.70      0.74      0.72       189\n",
      "        good       0.79      0.76      0.77       247\n",
      "\n",
      "    accuracy                           0.75       436\n",
      "   macro avg       0.74      0.75      0.74       436\n",
      "weighted avg       0.75      0.75      0.75       436\n",
      "\n"
     ]
    }
   ],
   "source": [
    "decision_tree_report = classification_report(y_test, y_pred_decision_tree, output_dict=True)\n",
    "print(classification_report(y_test, y_pred_decision_tree))"
   ],
   "metadata": {
    "collapsed": false,
    "pycharm": {
     "name": "#%%\n"
    }
   }
  },
  {
   "cell_type": "code",
   "execution_count": 1458,
   "outputs": [
    {
     "data": {
      "text/plain": "<AxesSubplot:>"
     },
     "execution_count": 1458,
     "metadata": {},
     "output_type": "execute_result"
    },
    {
     "data": {
      "text/plain": "<Figure size 432x288 with 2 Axes>",
      "image/png": "[encoded data removed]"
     },
     "metadata": {
      "needs_background": "light"
     },
     "output_type": "display_data"
    }
   ],
   "source": [
    "sns.heatmap(pd.DataFrame(decision_tree_report).iloc[:-1, :].T, annot=True)"
   ],
   "metadata": {
    "collapsed": false,
    "pycharm": {
     "name": "#%%\n"
    }
   }
  },
  {
   "cell_type": "code",
   "execution_count": 1459,
   "outputs": [
    {
     "data": {
      "text/plain": "<Figure size 432x288 with 2 Axes>",
      "image/png": "[encoded data removed]"
     },
     "metadata": {
      "needs_background": "light"
     },
     "output_type": "display_data"
    }
   ],
   "source": [
    "cm = confusion_matrix(y_test, y_pred_decision_tree, labels=['bad', 'good'])\n",
    "disp = ConfusionMatrixDisplay(confusion_matrix=cm, display_labels=['bad', 'good'])\n",
    "disp.plot()\n",
    "plt.show()"
   ],
   "metadata": {
    "collapsed": false,
    "pycharm": {
     "name": "#%%\n"
    }
   }
  },
  {
   "cell_type": "markdown",
   "source": [
    "###### Multi-layer perceptron"
   ],
   "metadata": {
    "collapsed": false
   }
  },
  {
   "cell_type": "code",
   "execution_count": 1460,
   "outputs": [],
   "source": [
    "mlp_classifier = MLPClassifier(max_iter=1000)\n",
    "mlp_classifier.fit(x_train, y_train)\n",
    "y_pred_mlp = mlp_classifier.predict(x_test)"
   ],
   "metadata": {
    "collapsed": false,
    "pycharm": {
     "name": "#%%\n"
    }
   }
  },
  {
   "cell_type": "code",
   "execution_count": 1461,
   "outputs": [
    {
     "name": "stdout",
     "output_type": "stream",
     "text": [
      "              precision    recall  f1-score   support\n",
      "\n",
      "         bad       0.68      0.77      0.72       189\n",
      "        good       0.80      0.72      0.76       247\n",
      "\n",
      "    accuracy                           0.74       436\n",
      "   macro avg       0.74      0.74      0.74       436\n",
      "weighted avg       0.75      0.74      0.74       436\n",
      "\n"
     ]
    }
   ],
   "source": [
    "mlp_report = classification_report(y_test, y_pred_mlp, output_dict=True)\n",
    "print(classification_report(y_test, y_pred_mlp))"
   ],
   "metadata": {
    "collapsed": false,
    "pycharm": {
     "name": "#%%\n"
    }
   }
  },
  {
   "cell_type": "code",
   "execution_count": 1462,
   "outputs": [
    {
     "data": {
      "text/plain": "<AxesSubplot:>"
     },
     "execution_count": 1462,
     "metadata": {},
     "output_type": "execute_result"
    },
    {
     "data": {
      "text/plain": "<Figure size 432x288 with 2 Axes>",
      "image/png": "[encoded data removed]"
     },
     "metadata": {
      "needs_background": "light"
     },
     "output_type": "display_data"
    }
   ],
   "source": [
    "sns.heatmap(pd.DataFrame(mlp_report).iloc[:-1, :].T, annot=True)"
   ],
   "metadata": {
    "collapsed": false,
    "pycharm": {
     "name": "#%%\n"
    }
   }
  },
  {
   "cell_type": "code",
   "execution_count": 1463,
   "outputs": [
    {
     "data": {
      "text/plain": "<Figure size 432x288 with 2 Axes>",
      "image/png": "[encoded data removed]"
     },
     "metadata": {
      "needs_background": "light"
     },
     "output_type": "display_data"
    }
   ],
   "source": [
    "cm = confusion_matrix(y_test, y_pred_mlp, labels=['bad', 'good'])\n",
    "disp = ConfusionMatrixDisplay(confusion_matrix=cm, display_labels=['bad', 'good'])\n",
    "disp.plot()\n",
    "plt.show()"
   ],
   "metadata": {
    "collapsed": false,
    "pycharm": {
     "name": "#%%\n"
    }
   }
  },
  {
   "cell_type": "markdown",
   "source": [
    "###### k-NN"
   ],
   "metadata": {
    "collapsed": false
   }
  },
  {
   "cell_type": "code",
   "execution_count": 1464,
   "outputs": [],
   "source": [
    "knn = KNeighborsClassifier()\n",
    "knn.fit(x_train, y_train)\n",
    "y_pred_knn = knn.predict(x_test)"
   ],
   "metadata": {
    "collapsed": false,
    "pycharm": {
     "name": "#%%\n"
    }
   }
  },
  {
   "cell_type": "code",
   "execution_count": 1465,
   "outputs": [
    {
     "name": "stdout",
     "output_type": "stream",
     "text": [
      "              precision    recall  f1-score   support\n",
      "\n",
      "         bad       0.67      0.67      0.67       189\n",
      "        good       0.75      0.75      0.75       247\n",
      "\n",
      "    accuracy                           0.72       436\n",
      "   macro avg       0.71      0.71      0.71       436\n",
      "weighted avg       0.72      0.72      0.72       436\n",
      "\n"
     ]
    }
   ],
   "source": [
    "knn_report = classification_report(y_test, y_pred_knn, output_dict=True)\n",
    "print(classification_report(y_test, y_pred_knn))"
   ],
   "metadata": {
    "collapsed": false,
    "pycharm": {
     "name": "#%%\n"
    }
   }
  },
  {
   "cell_type": "code",
   "execution_count": 1466,
   "outputs": [
    {
     "data": {
      "text/plain": "<AxesSubplot:>"
     },
     "execution_count": 1466,
     "metadata": {},
     "output_type": "execute_result"
    },
    {
     "data": {
      "text/plain": "<Figure size 432x288 with 2 Axes>",
      "image/png": "[encoded data removed]"
     },
     "metadata": {
      "needs_background": "light"
     },
     "output_type": "display_data"
    }
   ],
   "source": [
    "sns.heatmap(pd.DataFrame(knn_report).iloc[:-1, :].T, annot=True)"
   ],
   "metadata": {
    "collapsed": false,
    "pycharm": {
     "name": "#%%\n"
    }
   }
  },
  {
   "cell_type": "code",
   "execution_count": 1467,
   "outputs": [
    {
     "data": {
      "text/plain": "<Figure size 432x288 with 2 Axes>",
      "image/png": "[encoded data removed]"
     },
     "metadata": {
      "needs_background": "light"
     },
     "output_type": "display_data"
    }
   ],
   "source": [
    "cm = confusion_matrix(y_test, y_pred_knn, labels=['bad', 'good'])\n",
    "disp = ConfusionMatrixDisplay(confusion_matrix=cm, display_labels=['bad', 'good'])\n",
    "disp.plot()\n",
    "plt.show()"
   ],
   "metadata": {
    "collapsed": false,
    "pycharm": {
     "name": "#%%\n"
    }
   }
  }
 ],
 "metadata": {
  "kernelspec": {
   "display_name": "Python 3",
   "language": "python",
   "name": "python3"
  },
  "language_info": {
   "codemirror_mode": {
    "name": "ipython",
    "version": 2
   },
   "file_extension": ".py",
   "mimetype": "text/x-python",
   "name": "python",
   "nbconvert_exporter": "python",
   "pygments_lexer": "ipython2",
   "version": "2.7.6"
  }
 },
 "nbformat": 4,
 "nbformat_minor": 0
}